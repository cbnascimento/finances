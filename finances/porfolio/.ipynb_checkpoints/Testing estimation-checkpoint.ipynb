{
 "cells": [
  {
   "cell_type": "code",
   "execution_count": 81,
   "metadata": {},
   "outputs": [],
   "source": [
    "%matplotlib inline\n",
    "\n",
    "import numpy as np\n",
    "import pandas as pd\n",
    "from scipy import stats\n",
    "import statsmodels.api as sm\n",
    "import matplotlib.pyplot as plt\n",
    "from statsmodels.distributions.mixture_rvs import mixture_rvs"
   ]
  },
  {
   "cell_type": "markdown",
   "metadata": {},
   "source": [
    "## Default"
   ]
  },
  {
   "cell_type": "code",
   "execution_count": 20,
   "metadata": {
    "collapsed": true
   },
   "outputs": [],
   "source": [
    "np.random.seed(12345)\n",
    "obs_dist = mixture_rvs([.25,.75], size=10000, dist=[stats.norm, stats.norm],\n",
    "                kwargs = (dict(loc=-1,scale=.5),dict(loc=1,scale=.5)))"
   ]
  },
  {
   "cell_type": "code",
   "execution_count": 25,
   "metadata": {},
   "outputs": [
    {
     "data": {
      "text/plain": [
       "(array([   30.,   250.,   918.,   966.,   592.,  1617.,  3205.,  2017.,\n",
       "          383.,    22.]),\n",
       " array([-2.76545576, -2.19403384, -1.62261191, -1.05118999, -0.47976806,\n",
       "         0.09165386,  0.66307579,  1.23449771,  1.80591964,  2.37734156,\n",
       "         2.94876349]),\n",
       " <a list of 10 Patch objects>)"
      ]
     },
     "execution_count": 25,
     "metadata": {},
     "output_type": "execute_result"
    },
    {
     "data": {
      "image/png": "[encoded data removed]",
      "text/plain": [
       "<matplotlib.figure.Figure at 0x29671038518>"
      ]
     },
     "metadata": {},
     "output_type": "display_data"
    }
   ],
   "source": [
    "plt.hist(obs_dist)"
   ]
  },
  {
   "cell_type": "markdown",
   "metadata": {},
   "source": [
    "# Pedro"
   ]
  },
  {
   "cell_type": "code",
   "execution_count": 27,
   "metadata": {
    "collapsed": true
   },
   "outputs": [],
   "source": [
    "import sys\n",
    "sys.path.append('C:\\\\projects\\\\finances.git\\\\finances')\n",
    "\n",
    "from market import market_data as mkt_data"
   ]
  },
  {
   "cell_type": "code",
   "execution_count": 28,
   "metadata": {},
   "outputs": [
    {
     "name": "stdout",
     "output_type": "stream",
     "text": [
      "Loaded crypto currency database from C:\\projects\\finances.git\\finances\\market\\data_base\\crypto_currencies\\main_crypto_eur_database.csv\n"
     ]
    }
   ],
   "source": [
    "mkt=mkt_data.MarketData()\n",
    "returns = mkt.crypto_returns_history(\n",
    "    symbols=['ADA', 'ADST', 'BIS', 'BTC', 'EMC2', 'ETH', 'FUN', 'IOTA', 'LTC', 'TRX', 'UBQ', 'XLM', 'XRP']\n",
    ")"
   ]
  },
  {
   "cell_type": "code",
   "execution_count": 44,
   "metadata": {},
   "outputs": [],
   "source": [
    "obs_dist = returns['BTC'].dropna().values"
   ]
  },
  {
   "cell_type": "code",
   "execution_count": 45,
   "metadata": {},
   "outputs": [
    {
     "data": {
      "text/plain": [
       "(array([   6.,    8.,   38.,  166.,  957.,  258.,   41.,   13.,    3.,    2.]),\n",
       " array([-0.21098965, -0.16431408, -0.11763851, -0.07096294, -0.02428737,\n",
       "         0.0223882 ,  0.06906377,  0.11573934,  0.16241491,  0.20909048,\n",
       "         0.25576605]),\n",
       " <a list of 10 Patch objects>)"
      ]
     },
     "execution_count": 45,
     "metadata": {},
     "output_type": "execute_result"
    },
    {
     "data": {
      "image/png": "[encoded data removed]",
      "text/plain": [
       "<matplotlib.figure.Figure at 0x29671497dd8>"
      ]
     },
     "metadata": {},
     "output_type": "display_data"
    }
   ],
   "source": [
    "plt.hist(obs_dist)"
   ]
  },
  {
   "cell_type": "markdown",
   "metadata": {},
   "source": [
    "# Rest of the code"
   ]
  },
  {
   "cell_type": "code",
   "execution_count": 46,
   "metadata": {},
   "outputs": [],
   "source": [
    "kde = sm.nonparametric.KDEUnivariate(obs_dist)\n",
    "kde.fit()"
   ]
  },
  {
   "cell_type": "code",
   "execution_count": 47,
   "metadata": {},
   "outputs": [
    {
     "data": {
      "text/plain": [
       "2048"
      ]
     },
     "execution_count": 47,
     "metadata": {},
     "output_type": "execute_result"
    }
   ],
   "source": [
    "len(kde.density)"
   ]
  },
  {
   "cell_type": "code",
   "execution_count": 48,
   "metadata": {},
   "outputs": [
    {
     "data": {
      "text/plain": [
       "[<matplotlib.lines.Line2D at 0x2967150f710>]"
      ]
     },
     "execution_count": 48,
     "metadata": {},
     "output_type": "execute_result"
    },
    {
     "data": {
      "image/png": "[encoded data removed]",
      "text/plain": [
       "<matplotlib.figure.Figure at 0x296710aa5c0>"
      ]
     },
     "metadata": {},
     "output_type": "display_data"
    }
   ],
   "source": [
    "fig = plt.figure(figsize=(12,8))\n",
    "ax = fig.add_subplot(111)\n",
    "ax.hist(obs_dist, bins=50, normed=True, color='red')\n",
    "ax.plot(kde.support, kde.density, lw=2, color='black')"
   ]
  },
  {
   "cell_type": "code",
   "execution_count": 43,
   "metadata": {},
   "outputs": [
    {
     "data": {
      "text/plain": [
       "[<matplotlib.lines.Line2D at 0x296714b65c0>]"
      ]
     },
     "execution_count": 43,
     "metadata": {},
     "output_type": "execute_result"
    },
    {
     "data": {
      "image/png": "[encoded data removed]",
      "text/plain": [
       "<matplotlib.figure.Figure at 0x29671401ba8>"
      ]
     },
     "metadata": {},
     "output_type": "display_data"
    }
   ],
   "source": [
    "plt.plot(kde.support, kde.cdf)"
   ]
  },
  {
   "cell_type": "markdown",
   "metadata": {},
   "source": [
    "# Multivariable"
   ]
  },
  {
   "cell_type": "code",
   "execution_count": 61,
   "metadata": {},
   "outputs": [
    {
     "data": {
      "text/plain": [
       "array([ 0.39967419,  0.38423292])"
      ]
     },
     "execution_count": 61,
     "metadata": {},
     "output_type": "execute_result"
    }
   ],
   "source": [
    "import statsmodels.api as sm\n",
    "nobs = 300\n",
    "np.random.seed(1234)  # Seed random generator\n",
    "c1 = np.random.normal(size=(nobs,1))\n",
    "c2 = np.random.normal(2, 1, size=(nobs,1))\n",
    "\n",
    "dens_u = sm.nonparametric.KDEMultivariate(\n",
    "    data=[c1,c2],\n",
    "    var_type='cc',\n",
    "    bw='normal_reference')\n",
    "dens_u.bw"
   ]
  },
  {
   "cell_type": "code",
   "execution_count": 71,
   "metadata": {},
   "outputs": [
    {
     "name": "stdout",
     "output_type": "stream",
     "text": [
      "903\n"
     ]
    }
   ],
   "source": [
    "obs1 = returns[['BTC', 'ETH']].dropna().ETH.values\n",
    "obs2 = returns[['BTC', 'ETH']].dropna().BTC.values\n",
    "[obs1, obs2]\n",
    "print(len(obs1))"
   ]
  },
  {
   "cell_type": "code",
   "execution_count": 79,
   "metadata": {
    "scrolled": false
   },
   "outputs": [],
   "source": [
    "dens_u = sm.nonparametric.KDEMultivariate(\n",
    "    data=[obs1,obs2],\n",
    "    var_type='cc',\n",
    "    bw='normal_reference')\n",
    "pdf = dens_u.pdf()"
   ]
  },
  {
   "cell_type": "code",
   "execution_count": 77,
   "metadata": {},
   "outputs": [
    {
     "data": {
      "text/plain": [
       "[<matplotlib.lines.Line2D at 0x29672c51d30>]"
      ]
     },
     "execution_count": 77,
     "metadata": {},
     "output_type": "execute_result"
    },
    {
     "data": {
      "image/png": "[encoded data removed]",
      "text/plain": [
       "<matplotlib.figure.Figure at 0x29672bff4a8>"
      ]
     },
     "metadata": {},
     "output_type": "display_data"
    }
   ],
   "source": [
    "plt.plot(obs2, dens_u.pdf())"
   ]
  },
  {
   "cell_type": "code",
   "execution_count": 87,
   "metadata": {},
   "outputs": [
    {
     "data": {
      "text/html": [
       "<div>\n",
       "<style scoped>\n",
       "    .dataframe tbody tr th:only-of-type {\n",
       "        vertical-align: middle;\n",
       "    }\n",
       "\n",
       "    .dataframe tbody tr th {\n",
       "        vertical-align: top;\n",
       "    }\n",
       "\n",
       "    .dataframe thead th {\n",
       "        text-align: right;\n",
       "    }\n",
       "</style>\n",
       "<table border=\"1\" class=\"dataframe\">\n",
       "  <thead>\n",
       "    <tr style=\"text-align: right;\">\n",
       "      <th></th>\n",
       "      <th>BTC</th>\n",
       "      <th>ETH</th>\n",
       "      <th>PDF</th>\n",
       "    </tr>\n",
       "  </thead>\n",
       "  <tbody>\n",
       "    <tr>\n",
       "      <th>0</th>\n",
       "      <td>0.015632</td>\n",
       "      <td>-0.068268</td>\n",
       "      <td>27.655768</td>\n",
       "    </tr>\n",
       "    <tr>\n",
       "      <th>1</th>\n",
       "      <td>-0.004031</td>\n",
       "      <td>0.007584</td>\n",
       "      <td>115.460907</td>\n",
       "    </tr>\n",
       "    <tr>\n",
       "      <th>2</th>\n",
       "      <td>0.013599</td>\n",
       "      <td>0.497365</td>\n",
       "      <td>0.695734</td>\n",
       "    </tr>\n",
       "    <tr>\n",
       "      <th>3</th>\n",
       "      <td>-0.023662</td>\n",
       "      <td>0.129966</td>\n",
       "      <td>6.253478</td>\n",
       "    </tr>\n",
       "    <tr>\n",
       "      <th>4</th>\n",
       "      <td>-0.004529</td>\n",
       "      <td>0.506211</td>\n",
       "      <td>0.695734</td>\n",
       "    </tr>\n",
       "    <tr>\n",
       "      <th>5</th>\n",
       "      <td>0.000475</td>\n",
       "      <td>-0.005550</td>\n",
       "      <td>130.280073</td>\n",
       "    </tr>\n",
       "    <tr>\n",
       "      <th>6</th>\n",
       "      <td>-0.015545</td>\n",
       "      <td>-0.076503</td>\n",
       "      <td>20.711418</td>\n",
       "    </tr>\n",
       "    <tr>\n",
       "      <th>7</th>\n",
       "      <td>-0.011623</td>\n",
       "      <td>-0.071006</td>\n",
       "      <td>27.517883</td>\n",
       "    </tr>\n",
       "    <tr>\n",
       "      <th>8</th>\n",
       "      <td>0.004333</td>\n",
       "      <td>-0.230780</td>\n",
       "      <td>0.849966</td>\n",
       "    </tr>\n",
       "    <tr>\n",
       "      <th>9</th>\n",
       "      <td>-0.178838</td>\n",
       "      <td>-0.088382</td>\n",
       "      <td>0.505985</td>\n",
       "    </tr>\n",
       "    <tr>\n",
       "      <th>10</th>\n",
       "      <td>0.075754</td>\n",
       "      <td>0.157953</td>\n",
       "      <td>1.537669</td>\n",
       "    </tr>\n",
       "    <tr>\n",
       "      <th>11</th>\n",
       "      <td>0.025064</td>\n",
       "      <td>0.144017</td>\n",
       "      <td>6.448511</td>\n",
       "    </tr>\n",
       "    <tr>\n",
       "      <th>12</th>\n",
       "      <td>-0.020397</td>\n",
       "      <td>-0.049426</td>\n",
       "      <td>35.977103</td>\n",
       "    </tr>\n",
       "    <tr>\n",
       "      <th>13</th>\n",
       "      <td>-0.009374</td>\n",
       "      <td>-0.014286</td>\n",
       "      <td>103.777997</td>\n",
       "    </tr>\n",
       "    <tr>\n",
       "      <th>14</th>\n",
       "      <td>-0.009636</td>\n",
       "      <td>-0.021739</td>\n",
       "      <td>96.509238</td>\n",
       "    </tr>\n",
       "    <tr>\n",
       "      <th>15</th>\n",
       "      <td>-0.094775</td>\n",
       "      <td>-0.106006</td>\n",
       "      <td>1.992713</td>\n",
       "    </tr>\n",
       "    <tr>\n",
       "      <th>16</th>\n",
       "      <td>0.051956</td>\n",
       "      <td>-0.073896</td>\n",
       "      <td>5.598050</td>\n",
       "    </tr>\n",
       "    <tr>\n",
       "      <th>17</th>\n",
       "      <td>0.028337</td>\n",
       "      <td>0.026825</td>\n",
       "      <td>52.006311</td>\n",
       "    </tr>\n",
       "    <tr>\n",
       "      <th>18</th>\n",
       "      <td>0.005714</td>\n",
       "      <td>0.001746</td>\n",
       "      <td>127.611755</td>\n",
       "    </tr>\n",
       "    <tr>\n",
       "      <th>19</th>\n",
       "      <td>0.030959</td>\n",
       "      <td>0.036252</td>\n",
       "      <td>40.497113</td>\n",
       "    </tr>\n",
       "    <tr>\n",
       "      <th>20</th>\n",
       "      <td>-0.007001</td>\n",
       "      <td>-0.008403</td>\n",
       "      <td>114.272310</td>\n",
       "    </tr>\n",
       "    <tr>\n",
       "      <th>21</th>\n",
       "      <td>-0.004439</td>\n",
       "      <td>0.118644</td>\n",
       "      <td>13.469361</td>\n",
       "    </tr>\n",
       "    <tr>\n",
       "      <th>22</th>\n",
       "      <td>0.010435</td>\n",
       "      <td>0.035172</td>\n",
       "      <td>76.666260</td>\n",
       "    </tr>\n",
       "    <tr>\n",
       "      <th>23</th>\n",
       "      <td>-0.010286</td>\n",
       "      <td>-0.009208</td>\n",
       "      <td>102.496903</td>\n",
       "    </tr>\n",
       "    <tr>\n",
       "      <th>24</th>\n",
       "      <td>0.003388</td>\n",
       "      <td>-0.046058</td>\n",
       "      <td>72.453233</td>\n",
       "    </tr>\n",
       "    <tr>\n",
       "      <th>25</th>\n",
       "      <td>-0.006865</td>\n",
       "      <td>-0.020994</td>\n",
       "      <td>105.869271</td>\n",
       "    </tr>\n",
       "    <tr>\n",
       "      <th>26</th>\n",
       "      <td>0.022016</td>\n",
       "      <td>0.016172</td>\n",
       "      <td>75.682949</td>\n",
       "    </tr>\n",
       "    <tr>\n",
       "      <th>27</th>\n",
       "      <td>0.020495</td>\n",
       "      <td>0.055118</td>\n",
       "      <td>39.371212</td>\n",
       "    </tr>\n",
       "    <tr>\n",
       "      <th>28</th>\n",
       "      <td>0.020509</td>\n",
       "      <td>-0.029851</td>\n",
       "      <td>69.027124</td>\n",
       "    </tr>\n",
       "    <tr>\n",
       "      <th>29</th>\n",
       "      <td>-0.000676</td>\n",
       "      <td>-0.039152</td>\n",
       "      <td>85.856393</td>\n",
       "    </tr>\n",
       "    <tr>\n",
       "      <th>...</th>\n",
       "      <td>...</td>\n",
       "      <td>...</td>\n",
       "      <td>...</td>\n",
       "    </tr>\n",
       "    <tr>\n",
       "      <th>873</th>\n",
       "      <td>-0.001534</td>\n",
       "      <td>0.017452</td>\n",
       "      <td>106.900677</td>\n",
       "    </tr>\n",
       "    <tr>\n",
       "      <th>874</th>\n",
       "      <td>-0.116265</td>\n",
       "      <td>-0.048209</td>\n",
       "      <td>1.582810</td>\n",
       "    </tr>\n",
       "    <tr>\n",
       "      <th>875</th>\n",
       "      <td>0.092973</td>\n",
       "      <td>0.055029</td>\n",
       "      <td>3.271403</td>\n",
       "    </tr>\n",
       "    <tr>\n",
       "      <th>876</th>\n",
       "      <td>-0.035263</td>\n",
       "      <td>0.021025</td>\n",
       "      <td>17.428814</td>\n",
       "    </tr>\n",
       "    <tr>\n",
       "      <th>877</th>\n",
       "      <td>0.090464</td>\n",
       "      <td>0.137868</td>\n",
       "      <td>2.719675</td>\n",
       "    </tr>\n",
       "    <tr>\n",
       "      <th>878</th>\n",
       "      <td>0.018155</td>\n",
       "      <td>0.092310</td>\n",
       "      <td>18.216088</td>\n",
       "    </tr>\n",
       "    <tr>\n",
       "      <th>879</th>\n",
       "      <td>0.022623</td>\n",
       "      <td>0.015358</td>\n",
       "      <td>74.561442</td>\n",
       "    </tr>\n",
       "    <tr>\n",
       "      <th>880</th>\n",
       "      <td>0.119188</td>\n",
       "      <td>0.018816</td>\n",
       "      <td>2.098655</td>\n",
       "    </tr>\n",
       "    <tr>\n",
       "      <th>881</th>\n",
       "      <td>0.005594</td>\n",
       "      <td>0.044060</td>\n",
       "      <td>65.972513</td>\n",
       "    </tr>\n",
       "    <tr>\n",
       "      <th>882</th>\n",
       "      <td>-0.059873</td>\n",
       "      <td>0.107029</td>\n",
       "      <td>2.099679</td>\n",
       "    </tr>\n",
       "    <tr>\n",
       "      <th>883</th>\n",
       "      <td>-0.073814</td>\n",
       "      <td>0.001966</td>\n",
       "      <td>5.767749</td>\n",
       "    </tr>\n",
       "    <tr>\n",
       "      <th>884</th>\n",
       "      <td>-0.034578</td>\n",
       "      <td>0.135544</td>\n",
       "      <td>3.637217</td>\n",
       "    </tr>\n",
       "    <tr>\n",
       "      <th>885</th>\n",
       "      <td>0.020759</td>\n",
       "      <td>-0.038626</td>\n",
       "      <td>57.001092</td>\n",
       "    </tr>\n",
       "    <tr>\n",
       "      <th>886</th>\n",
       "      <td>-0.106549</td>\n",
       "      <td>-0.082251</td>\n",
       "      <td>1.868279</td>\n",
       "    </tr>\n",
       "    <tr>\n",
       "      <th>887</th>\n",
       "      <td>0.032566</td>\n",
       "      <td>0.091505</td>\n",
       "      <td>11.435423</td>\n",
       "    </tr>\n",
       "    <tr>\n",
       "      <th>888</th>\n",
       "      <td>0.027152</td>\n",
       "      <td>0.096780</td>\n",
       "      <td>12.186139</td>\n",
       "    </tr>\n",
       "    <tr>\n",
       "      <th>889</th>\n",
       "      <td>-0.040960</td>\n",
       "      <td>-0.021233</td>\n",
       "      <td>17.516111</td>\n",
       "    </tr>\n",
       "    <tr>\n",
       "      <th>890</th>\n",
       "      <td>0.003471</td>\n",
       "      <td>-0.054764</td>\n",
       "      <td>55.958085</td>\n",
       "    </tr>\n",
       "    <tr>\n",
       "      <th>891</th>\n",
       "      <td>-0.168548</td>\n",
       "      <td>-0.184400</td>\n",
       "      <td>0.617893</td>\n",
       "    </tr>\n",
       "    <tr>\n",
       "      <th>892</th>\n",
       "      <td>-0.056280</td>\n",
       "      <td>-0.075224</td>\n",
       "      <td>6.950192</td>\n",
       "    </tr>\n",
       "    <tr>\n",
       "      <th>893</th>\n",
       "      <td>0.035267</td>\n",
       "      <td>0.037918</td>\n",
       "      <td>33.285361</td>\n",
       "    </tr>\n",
       "    <tr>\n",
       "      <th>894</th>\n",
       "      <td>0.012481</td>\n",
       "      <td>0.010004</td>\n",
       "      <td>108.333113</td>\n",
       "    </tr>\n",
       "    <tr>\n",
       "      <th>895</th>\n",
       "      <td>0.117210</td>\n",
       "      <td>0.106736</td>\n",
       "      <td>1.945591</td>\n",
       "    </tr>\n",
       "    <tr>\n",
       "      <th>896</th>\n",
       "      <td>-0.063372</td>\n",
       "      <td>-0.044649</td>\n",
       "      <td>8.878227</td>\n",
       "    </tr>\n",
       "    <tr>\n",
       "      <th>897</th>\n",
       "      <td>-0.118576</td>\n",
       "      <td>-0.110363</td>\n",
       "      <td>1.455142</td>\n",
       "    </tr>\n",
       "    <tr>\n",
       "      <th>898</th>\n",
       "      <td>0.031401</td>\n",
       "      <td>0.020816</td>\n",
       "      <td>49.384076</td>\n",
       "    </tr>\n",
       "    <tr>\n",
       "      <th>899</th>\n",
       "      <td>0.019442</td>\n",
       "      <td>0.033083</td>\n",
       "      <td>64.642985</td>\n",
       "    </tr>\n",
       "    <tr>\n",
       "      <th>900</th>\n",
       "      <td>-0.000251</td>\n",
       "      <td>0.022649</td>\n",
       "      <td>99.883601</td>\n",
       "    </tr>\n",
       "    <tr>\n",
       "      <th>901</th>\n",
       "      <td>-0.017715</td>\n",
       "      <td>-0.013276</td>\n",
       "      <td>71.735324</td>\n",
       "    </tr>\n",
       "    <tr>\n",
       "      <th>902</th>\n",
       "      <td>0.004536</td>\n",
       "      <td>0.007181</td>\n",
       "      <td>124.174605</td>\n",
       "    </tr>\n",
       "  </tbody>\n",
       "</table>\n",
       "<p>903 rows × 3 columns</p>\n",
       "</div>"
      ],
      "text/plain": [
       "          BTC       ETH         PDF\n",
       "0    0.015632 -0.068268   27.655768\n",
       "1   -0.004031  0.007584  115.460907\n",
       "2    0.013599  0.497365    0.695734\n",
       "3   -0.023662  0.129966    6.253478\n",
       "4   -0.004529  0.506211    0.695734\n",
       "5    0.000475 -0.005550  130.280073\n",
       "6   -0.015545 -0.076503   20.711418\n",
       "7   -0.011623 -0.071006   27.517883\n",
       "8    0.004333 -0.230780    0.849966\n",
       "9   -0.178838 -0.088382    0.505985\n",
       "10   0.075754  0.157953    1.537669\n",
       "11   0.025064  0.144017    6.448511\n",
       "12  -0.020397 -0.049426   35.977103\n",
       "13  -0.009374 -0.014286  103.777997\n",
       "14  -0.009636 -0.021739   96.509238\n",
       "15  -0.094775 -0.106006    1.992713\n",
       "16   0.051956 -0.073896    5.598050\n",
       "17   0.028337  0.026825   52.006311\n",
       "18   0.005714  0.001746  127.611755\n",
       "19   0.030959  0.036252   40.497113\n",
       "20  -0.007001 -0.008403  114.272310\n",
       "21  -0.004439  0.118644   13.469361\n",
       "22   0.010435  0.035172   76.666260\n",
       "23  -0.010286 -0.009208  102.496903\n",
       "24   0.003388 -0.046058   72.453233\n",
       "25  -0.006865 -0.020994  105.869271\n",
       "26   0.022016  0.016172   75.682949\n",
       "27   0.020495  0.055118   39.371212\n",
       "28   0.020509 -0.029851   69.027124\n",
       "29  -0.000676 -0.039152   85.856393\n",
       "..        ...       ...         ...\n",
       "873 -0.001534  0.017452  106.900677\n",
       "874 -0.116265 -0.048209    1.582810\n",
       "875  0.092973  0.055029    3.271403\n",
       "876 -0.035263  0.021025   17.428814\n",
       "877  0.090464  0.137868    2.719675\n",
       "878  0.018155  0.092310   18.216088\n",
       "879  0.022623  0.015358   74.561442\n",
       "880  0.119188  0.018816    2.098655\n",
       "881  0.005594  0.044060   65.972513\n",
       "882 -0.059873  0.107029    2.099679\n",
       "883 -0.073814  0.001966    5.767749\n",
       "884 -0.034578  0.135544    3.637217\n",
       "885  0.020759 -0.038626   57.001092\n",
       "886 -0.106549 -0.082251    1.868279\n",
       "887  0.032566  0.091505   11.435423\n",
       "888  0.027152  0.096780   12.186139\n",
       "889 -0.040960 -0.021233   17.516111\n",
       "890  0.003471 -0.054764   55.958085\n",
       "891 -0.168548 -0.184400    0.617893\n",
       "892 -0.056280 -0.075224    6.950192\n",
       "893  0.035267  0.037918   33.285361\n",
       "894  0.012481  0.010004  108.333113\n",
       "895  0.117210  0.106736    1.945591\n",
       "896 -0.063372 -0.044649    8.878227\n",
       "897 -0.118576 -0.110363    1.455142\n",
       "898  0.031401  0.020816   49.384076\n",
       "899  0.019442  0.033083   64.642985\n",
       "900 -0.000251  0.022649   99.883601\n",
       "901 -0.017715 -0.013276   71.735324\n",
       "902  0.004536  0.007181  124.174605\n",
       "\n",
       "[903 rows x 3 columns]"
      ]
     },
     "execution_count": 87,
     "metadata": {},
     "output_type": "execute_result"
    }
   ],
   "source": [
    "df = pd.DataFrame(data = {'ETH':obs1, 'BTC':obs2, 'PDF':pdf})\n",
    "df"
   ]
  },
  {
   "cell_type": "code",
   "execution_count": null,
   "metadata": {
    "collapsed": true
   },
   "outputs": [],
   "source": []
  }
 ],
 "metadata": {
  "kernelspec": {
   "display_name": "Python 3",
   "language": "python",
   "name": "python3"
  },
  "language_info": {
   "codemirror_mode": {
    "name": "ipython",
    "version": 3
   },
   "file_extension": ".py",
   "mimetype": "text/x-python",
   "name": "python",
   "nbconvert_exporter": "python",
   "pygments_lexer": "ipython3",
   "version": "3.6.3"
  }
 },
 "nbformat": 4,
 "nbformat_minor": 2
}
