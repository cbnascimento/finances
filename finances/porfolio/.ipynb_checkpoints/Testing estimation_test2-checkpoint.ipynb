{
 "cells": [
  {
   "cell_type": "code",
   "execution_count": 1,
   "metadata": {},
   "outputs": [
    {
     "name": "stderr",
     "output_type": "stream",
     "text": [
      "C:\\Anaconda3\\envs\\finance\\lib\\site-packages\\statsmodels\\compat\\pandas.py:56: FutureWarning: The pandas.core.datetools module is deprecated and will be removed in a future version. Please use the pandas.tseries module instead.\n",
      "  from pandas.core import datetools\n"
     ]
    }
   ],
   "source": [
    "%matplotlib inline\n",
    "\n",
    "import numpy as np\n",
    "import pandas as pd\n",
    "from scipy import stats\n",
    "import statsmodels.api as sm\n",
    "import matplotlib.pyplot as plt\n",
    "from statsmodels.distributions.mixture_rvs import mixture_rvs"
   ]
  },
  {
   "cell_type": "markdown",
   "metadata": {},
   "source": [
    "## Default"
   ]
  },
  {
   "cell_type": "markdown",
   "metadata": {},
   "source": [
    "# Pedro"
   ]
  },
  {
   "cell_type": "code",
   "execution_count": 2,
   "metadata": {
    "collapsed": true
   },
   "outputs": [],
   "source": [
    "import sys\n",
    "sys.path.append('C:\\\\projects\\\\finances.git\\\\finances')\n",
    "\n",
    "from market import market_data as mkt_data"
   ]
  },
  {
   "cell_type": "code",
   "execution_count": 3,
   "metadata": {},
   "outputs": [
    {
     "name": "stdout",
     "output_type": "stream",
     "text": [
      "Loaded crypto currency database from C:\\projects\\finances.git\\finances\\market\\data_base\\crypto_currencies\\main_crypto_eur_database.csv\n"
     ]
    }
   ],
   "source": [
    "mkt=mkt_data.MarketData()\n",
    "returns = mkt.crypto_returns_history(\n",
    "    symbols=['ADA', 'ADST', 'BIS', 'BTC', 'EMC2', 'ETH', 'FUN', 'IOTA', 'LTC', 'TRX', 'UBQ', 'XLM', 'XRP']\n",
    ")"
   ]
  },
  {
   "cell_type": "code",
   "execution_count": 4,
   "metadata": {
    "collapsed": true
   },
   "outputs": [],
   "source": [
    "rets = returns['XRP'].dropna().values"
   ]
  },
  {
   "cell_type": "code",
   "execution_count": 6,
   "metadata": {},
   "outputs": [
    {
     "data": {
      "text/plain": [
       "(array([   4.,  619.,  846.,   19.,    5.,    1.,    0.,    0.,    0.,    1.]),\n",
       " array([-0.45852734, -0.23330771, -0.00808809,  0.21713154,  0.44235117,\n",
       "         0.66757079,  0.89279042,  1.11801004,  1.34322967,  1.56844929,\n",
       "         1.79366892]),\n",
       " <a list of 10 Patch objects>)"
      ]
     },
     "execution_count": 6,
     "metadata": {},
     "output_type": "execute_result"
    },
    {
     "data": {
      "image/png": "[encoded data removed]",
      "text/plain": [
       "<matplotlib.figure.Figure at 0x1b484962128>"
      ]
     },
     "metadata": {},
     "output_type": "display_data"
    }
   ],
   "source": [
    "plt.hist(rets)"
   ]
  },
  {
   "cell_type": "markdown",
   "metadata": {},
   "source": [
    "# Rest of the code"
   ]
  },
  {
   "cell_type": "code",
   "execution_count": 22,
   "metadata": {},
   "outputs": [],
   "source": [
    "kde = sm.nonparametric.KDEUnivariate(rets)\n",
    "kde.fit()"
   ]
  },
  {
   "cell_type": "code",
   "execution_count": 23,
   "metadata": {
    "collapsed": true
   },
   "outputs": [],
   "source": [
    "dens_u = sm.nonparametric.KDEMultivariate(\n",
    "    data=[rets],\n",
    "    var_type='c',\n",
    "    bw='normal_reference')"
   ]
  },
  {
   "cell_type": "code",
   "execution_count": 24,
   "metadata": {},
   "outputs": [
    {
     "data": {
      "text/plain": [
       "array([ 0.01303559,  0.01303566,  0.01738272, ...,  0.01526952,\n",
       "        0.01274686,  0.01274686])"
      ]
     },
     "execution_count": 24,
     "metadata": {},
     "output_type": "execute_result"
    }
   ],
   "source": [
    "dens_u.pdf()"
   ]
  },
  {
   "cell_type": "code",
   "execution_count": 25,
   "metadata": {},
   "outputs": [
    {
     "data": {
      "text/plain": [
       "[<matplotlib.lines.Line2D at 0x1b486180a58>]"
      ]
     },
     "execution_count": 25,
     "metadata": {},
     "output_type": "execute_result"
    },
    {
     "data": {
      "image/png": "[encoded data removed]",
      "text/plain": [
       "<matplotlib.figure.Figure at 0x1b484c6e128>"
      ]
     },
     "metadata": {},
     "output_type": "display_data"
    }
   ],
   "source": [
    "plt.plot(np.sort(rets),dens_u.pdf(), 'o')"
   ]
  },
  {
   "cell_type": "code",
   "execution_count": 86,
   "metadata": {},
   "outputs": [
    {
     "data": {
      "text/plain": [
       "[<matplotlib.lines.Line2D at 0x1bf494430b8>]"
      ]
     },
     "execution_count": 86,
     "metadata": {},
     "output_type": "execute_result"
    },
    {
     "data": {
      "image/png": "[encoded data removed]",
      "text/plain": [
       "<matplotlib.figure.Figure at 0x1bf492fcda0>"
      ]
     },
     "metadata": {},
     "output_type": "display_data"
    }
   ],
   "source": [
    "fig = plt.figure(figsize=(12,8))\n",
    "ax = fig.add_subplot(111)\n",
    "ax.hist(rets, bins=50, normed=True, color='red')\n",
    "ax.plot(kde.support, kde.density, lw=2, color='black')\n",
    "ax.plot(kde.support, kde.density, lw=2, color='black')"
   ]
  },
  {
   "cell_type": "code",
   "execution_count": 87,
   "metadata": {},
   "outputs": [
    {
     "data": {
      "text/plain": [
       "[<matplotlib.lines.Line2D at 0x1bf496cfa90>]"
      ]
     },
     "execution_count": 87,
     "metadata": {},
     "output_type": "execute_result"
    },
    {
     "data": {
      "image/png": "[encoded data removed]",
      "text/plain": [
       "<matplotlib.figure.Figure at 0x1bf493b8550>"
      ]
     },
     "metadata": {},
     "output_type": "display_data"
    }
   ],
   "source": [
    "plt.plot(kde.support, kde.cdf)"
   ]
  },
  {
   "cell_type": "code",
   "execution_count": 97,
   "metadata": {},
   "outputs": [
    {
     "name": "stdout",
     "output_type": "stream",
     "text": [
      "[  7.39715865e-07   8.83320549e-07   1.18397808e-06 ...,   1.18397808e-06\n",
      "   8.83320549e-07   7.39715865e-07]\n",
      "[ -2.80240002e-19  -3.42515558e-19  -1.55688890e-19  -2.17964446e-19\n",
      "  -3.11377780e-20  -5.29342226e-19  -4.67066670e-19  -1.55688890e-19\n",
      "  -4.98204448e-19  -1.86826668e-19  -4.98204448e-19  -2.80240002e-19\n",
      "  -3.11377780e-20  -9.34133340e-20  -2.17964446e-19  -2.49102224e-19\n",
      "  -2.17964446e-19  -6.22755560e-20  -3.11377780e-20  -6.22755560e-20\n",
      "  -3.11377780e-19  -6.22755560e-20  -4.98204448e-19  -1.24551112e-19\n",
      "  -4.98204448e-19  -2.49102224e-19  -2.49102224e-19  -6.22755560e-19\n",
      "  -6.22755560e-20  -6.22755560e-20  -3.11377780e-19  -3.11377780e-19\n",
      "  -2.49102224e-19  -2.49102224e-19  -3.73653336e-19  -1.86826668e-19\n",
      "  -1.24551112e-19  -6.22755560e-20  -4.98204448e-19  -3.73653336e-19\n",
      "  -9.34133340e-20  -4.35928892e-19  -1.24551112e-19  -6.22755560e-20\n",
      "  -3.81437781e-19  -5.05988893e-20  -1.44012223e-19  -7.78444450e-21\n",
      "  -3.67815003e-19  -2.25748891e-19  -1.25524168e-19  -2.75861252e-19\n",
      "  -2.55427085e-20  -7.44387505e-20  -7.97905561e-20  -7.39522228e-20\n",
      "  -2.95808891e-19  -7.39522228e-20  -3.15270002e-19  -2.49102224e-19\n",
      "  -1.44012223e-19  -4.16467781e-19  -3.34731114e-19  -7.78444450e-21\n",
      "  -1.75150001e-19  -4.74851115e-19  -5.60480004e-19  -3.11377780e-20\n",
      "  -1.63473335e-19  -6.22755560e-20  -4.98204448e-19  -4.20360003e-19\n",
      "  -2.25748891e-19  -6.22755560e-20  -1.86826668e-19  -3.42515558e-19\n",
      "  -4.51497781e-19  -8.09582228e-19  -7.16168894e-19  -6.69462227e-19\n",
      "  -8.09582228e-19  -5.44911115e-19  -1.07425334e-18  -4.67066670e-19\n",
      "  -8.56288895e-19  -1.08982223e-18  -4.35928892e-19  -5.76048893e-19\n",
      "  -9.34133340e-20  -2.80240002e-19  -1.24551112e-18  -6.53893338e-19\n",
      "  -7.31737783e-19  -3.42515558e-19  -9.34133340e-19  -1.55688890e-19\n",
      "  -2.49102224e-19  -5.76048893e-19  -8.71857784e-19  -2.64671113e-19\n",
      "  -8.40720006e-19  -1.08982223e-19  -4.51497781e-19  -2.80240002e-19\n",
      "  -4.04791114e-19  -6.53893338e-19  -1.24551112e-19  -8.09582228e-19\n",
      "  -7.00600005e-19  -4.04791114e-19  -8.25151117e-19  -2.02395557e-19\n",
      "  -5.44911115e-19  -4.04791114e-19  -7.47306672e-19  -5.29342226e-19\n",
      "  -7.16168894e-19  -2.17964446e-19  -5.60480004e-19  -6.22755560e-20\n",
      "  -1.24551112e-19  -3.73653336e-19  -2.49102224e-19  -1.55688890e-19\n",
      "  -3.11377780e-19  -6.22755560e-20  -3.11377780e-19  -2.49102224e-19\n",
      "  -2.49102224e-19  -2.49102224e-19  -1.24551112e-19  -3.73653336e-19\n",
      "  -5.60480004e-19  -6.22755560e-20  -2.49102224e-19  -1.24551112e-19\n",
      "  -1.24551112e-19  -2.49102224e-19  -3.73653336e-19  -2.49102224e-19\n",
      "  -2.49102224e-19  -2.49102224e-19  -2.49102224e-19  -4.98204448e-19\n",
      "  -2.49102224e-19  -2.49102224e-19  -4.98204448e-19  -2.49102224e-19\n",
      "  -4.98204448e-19  -4.98204448e-19  -9.96408896e-19  -9.96408896e-19\n",
      "  -9.96408896e-19  -9.96408896e-19  -1.99281779e-18  -1.99281779e-18\n",
      "  -9.96408896e-19  -9.96408896e-19  -1.99281779e-18  -9.96408896e-19\n",
      "  -1.99281779e-18  -9.96408896e-19  -9.96408896e-19  -9.96408896e-19\n",
      "  -9.96408896e-19  -4.98204448e-19  -9.96408896e-19  -4.98204448e-19\n",
      "  -4.98204448e-19  -9.96408896e-19  -4.98204448e-19  -2.49102224e-19\n",
      "  -2.49102224e-19  -2.49102224e-19  -2.49102224e-19  -4.98204448e-19\n",
      "  -2.49102224e-19  -7.47306672e-19  -4.98204448e-19  -1.24551112e-19\n",
      "  -2.49102224e-19  -1.24551112e-19  -1.24551112e-19  -1.24551112e-19\n",
      "  -6.22755560e-19  -3.73653336e-19  -1.86826668e-19  -6.22755560e-20\n",
      "  -2.49102224e-19  -1.24551112e-19  -1.24551112e-19  -1.24551112e-19\n",
      "  -1.24551112e-19  -6.22755560e-20  -2.49102224e-19  -1.86826668e-19\n",
      "  -6.22755560e-20  -2.49102224e-19  -3.11377780e-19  -2.49102224e-19\n",
      "  -4.98204448e-19  -1.24551112e-19  -2.49102224e-19  -6.22755560e-19\n",
      "  -2.49102224e-19  -3.73653336e-19  -6.22755560e-19  -3.73653336e-19\n",
      "  -7.47306672e-19  -3.73653336e-19  -3.73653336e-19  -2.49102224e-19\n",
      "  -6.22755560e-20  -1.86826668e-19  -1.86826668e-19  -6.22755560e-20\n",
      "  -4.35928892e-19  -1.86826668e-19  -5.60480004e-19  -8.71857784e-19\n",
      "  -3.73653336e-19  -1.86826668e-19  -4.35928892e-19  -6.85031116e-19\n",
      "  -6.85031116e-19  -4.35928892e-19  -4.98204448e-19  -6.85031116e-19\n",
      "  -4.67066670e-19  -4.04791114e-19  -6.85031116e-19  -4.98204448e-19\n",
      "  -5.60480004e-19  -5.29342226e-19  -9.02995562e-19  -6.53893338e-19\n",
      "  -9.34133340e-20  -2.17964446e-19  -1.24551112e-19  -1.24551112e-19\n",
      "  -3.11377780e-19  -1.55688890e-19  -9.34133340e-20  -2.49102224e-19\n",
      "  -4.67066670e-20  -4.67066670e-19  -2.33533335e-19  -3.11377780e-20\n",
      "  -4.04791114e-19  -1.71257779e-19  -2.80240002e-19  -2.33533335e-19\n",
      "  -3.73653336e-19  -2.80240002e-19  -2.02395557e-19  -1.86826668e-19\n",
      "  -4.98204448e-19  -2.64671113e-19  -3.11377780e-20  -4.35928892e-19\n",
      "  -1.16766668e-19  -1.71257779e-19  -6.22755560e-20  -3.89222225e-20\n",
      "  -6.07186671e-19  -2.17964446e-19  -7.78444450e-20  -2.02395557e-19\n",
      "  -2.80240002e-19  -3.89222225e-19  -3.03593336e-19  -1.63473335e-19\n",
      "  -3.58084447e-19  -7.78444450e-21  -3.97006670e-19  -2.88024447e-19\n",
      "  -1.40120001e-19  -3.97006670e-19  -3.89222225e-20  -5.25450004e-19\n",
      "  -1.09371445e-18  -6.50001116e-19  -4.28144448e-19  -1.16766668e-19\n",
      "  -5.79941115e-19  -1.08982223e-19  -1.01197779e-19  -1.86826668e-19\n",
      "  -5.44911115e-20  -5.44911115e-20  -1.51796668e-19  -2.80240002e-19\n",
      "  -8.17366673e-20  -2.10180002e-19  -6.22755560e-20  -4.28144448e-19\n",
      "  -2.02395557e-19  -2.25748891e-19  -2.80240002e-19  -2.06287779e-19\n",
      "  -2.80240002e-19  -1.32335557e-19  -1.55688890e-20  -2.17964446e-19\n",
      "  -7.78444450e-20  -2.49102224e-19  -2.72455558e-19  -5.44911115e-20\n",
      "  -6.22755560e-20  -3.11377780e-20  -2.88024447e-19  -5.44911115e-20\n",
      "  -2.56886669e-19  -1.63473335e-19  -1.86826668e-19  -1.32335557e-19\n",
      "  -4.51497781e-19  -4.98204448e-19  -4.67066670e-20  -3.11377780e-19\n",
      "  -1.40120001e-19  -7.78444450e-20  -1.24551112e-19  -3.58084447e-19\n",
      "  -2.49102224e-19  -3.11377780e-20  -3.42515558e-19  -2.80240002e-19\n",
      "  -1.55688890e-19  -1.55688890e-19  -1.24551112e-19  -9.34133340e-20\n",
      "  -9.34133340e-20  -1.86826668e-19  -2.17964446e-19  -9.34133340e-20\n",
      "  -2.17964446e-19  -1.55688890e-19  -9.34133340e-20  -2.49102224e-19\n",
      "  -6.22755560e-20  -1.86826668e-19  -1.86826668e-19  -4.35928892e-19\n",
      "  -1.24551112e-19  -2.49102224e-19  -1.24551112e-19  -1.24551112e-19\n",
      "  -1.24551112e-19  -2.49102224e-19  -3.73653336e-19  -3.73653336e-19\n",
      "  -2.49102224e-19  -1.24551112e-19  -1.24551112e-19  -6.22755560e-19\n",
      "  -2.49102224e-19  -2.49102224e-19  -2.49102224e-19  -2.49102224e-19\n",
      "  -2.49102224e-19  -4.98204448e-19  -4.98204448e-19  -4.98204448e-19\n",
      "  -9.96408896e-19  -4.98204448e-19]\n"
     ]
    }
   ],
   "source": [
    "x = kde.support\n",
    "pdf = kde.density\n",
    "print(prob)\n",
    "sum(pdf)/(len(pdf)-1)\n",
    "prob = pdf*(x[-1]-x[0])/(len(pdf)-1)\n",
    "print(prob[pdf<0])"
   ]
  },
  {
   "cell_type": "code",
   "execution_count": 89,
   "metadata": {},
   "outputs": [
    {
     "ename": "ValueError",
     "evalue": "probabilities are not non-negative",
     "output_type": "error",
     "traceback": [
      "\u001b[1;31m---------------------------------------------------------------------------\u001b[0m",
      "\u001b[1;31mValueError\u001b[0m                                Traceback (most recent call last)",
      "\u001b[1;32m<ipython-input-89-fbb047fcc8bf>\u001b[0m in \u001b[0;36m<module>\u001b[1;34m()\u001b[0m\n\u001b[1;32m----> 1\u001b[1;33m \u001b[0msample0\u001b[0m \u001b[1;33m=\u001b[0m \u001b[0mnp\u001b[0m\u001b[1;33m.\u001b[0m\u001b[0mrandom\u001b[0m\u001b[1;33m.\u001b[0m\u001b[0mchoice\u001b[0m\u001b[1;33m(\u001b[0m\u001b[0mkde\u001b[0m\u001b[1;33m.\u001b[0m\u001b[0msupport\u001b[0m\u001b[1;33m,\u001b[0m \u001b[0mp\u001b[0m\u001b[1;33m=\u001b[0m\u001b[0mprob\u001b[0m\u001b[1;33m,\u001b[0m \u001b[0msize\u001b[0m\u001b[1;33m=\u001b[0m\u001b[1;36m1000000\u001b[0m\u001b[1;33m)\u001b[0m\u001b[1;33m\u001b[0m\u001b[0m\n\u001b[0m\u001b[0;32m      2\u001b[0m \u001b[0msample\u001b[0m \u001b[1;33m=\u001b[0m \u001b[0msample0\u001b[0m\u001b[1;33m.\u001b[0m\u001b[0mcopy\u001b[0m\u001b[1;33m(\u001b[0m\u001b[1;33m)\u001b[0m\u001b[1;33m\u001b[0m\u001b[0m\n\u001b[0;32m      3\u001b[0m \u001b[1;32mfor\u001b[0m \u001b[0mk\u001b[0m \u001b[1;32min\u001b[0m \u001b[0mrange\u001b[0m\u001b[1;33m(\u001b[0m\u001b[1;36m30\u001b[0m\u001b[1;33m)\u001b[0m\u001b[1;33m:\u001b[0m\u001b[1;33m\u001b[0m\u001b[0m\n\u001b[0;32m      4\u001b[0m     \u001b[0msample\u001b[0m \u001b[1;33m+=\u001b[0m \u001b[0mnp\u001b[0m\u001b[1;33m.\u001b[0m\u001b[0mrandom\u001b[0m\u001b[1;33m.\u001b[0m\u001b[0mchoice\u001b[0m\u001b[1;33m(\u001b[0m\u001b[0mkde\u001b[0m\u001b[1;33m.\u001b[0m\u001b[0msupport\u001b[0m\u001b[1;33m,\u001b[0m \u001b[0mp\u001b[0m\u001b[1;33m=\u001b[0m\u001b[0mprob\u001b[0m\u001b[1;33m,\u001b[0m \u001b[0msize\u001b[0m\u001b[1;33m=\u001b[0m\u001b[1;36m1000000\u001b[0m\u001b[1;33m)\u001b[0m\u001b[1;33m\u001b[0m\u001b[0m\n",
      "\u001b[1;32mmtrand.pyx\u001b[0m in \u001b[0;36mmtrand.RandomState.choice\u001b[1;34m()\u001b[0m\n",
      "\u001b[1;31mValueError\u001b[0m: probabilities are not non-negative"
     ]
    }
   ],
   "source": [
    "sample0 = np.random.choice(kde.support, p=prob, size=1000000)\n",
    "sample = sample0.copy()\n",
    "for k in range(30):\n",
    "    sample += np.random.choice(kde.support, p=prob, size=1000000)"
   ]
  },
  {
   "cell_type": "code",
   "execution_count": null,
   "metadata": {
    "collapsed": true
   },
   "outputs": [],
   "source": [
    "fig = plt.figure(figsize=(12,8))\n",
    "ax = fig.add_subplot(111)\n",
    "ax.hist(obs_dist, bins=50, normed=True, color='red')\n",
    "#ax.hist(sample, bins=50, normed=True, color='blue')\n",
    "ax.hist(sample0, bins=50, normed=True, color='green')\n",
    "ax.plot(kde.support, kde.density, lw=2, color='black')"
   ]
  },
  {
   "cell_type": "code",
   "execution_count": 78,
   "metadata": {
    "collapsed": true
   },
   "outputs": [],
   "source": [
    "kde2 = sm.nonparametric.KDEUnivariate(sample)\n",
    "kde2.fit()"
   ]
  },
  {
   "cell_type": "code",
   "execution_count": 79,
   "metadata": {},
   "outputs": [
    {
     "data": {
      "text/plain": [
       "[<matplotlib.lines.Line2D at 0x1bf47c57d30>]"
      ]
     },
     "execution_count": 79,
     "metadata": {},
     "output_type": "execute_result"
    },
    {
     "data": {
      "image/png": "[encoded data removed]",
      "text/plain": [
       "<matplotlib.figure.Figure at 0x1bf46536160>"
      ]
     },
     "metadata": {},
     "output_type": "display_data"
    }
   ],
   "source": [
    "fig = plt.figure(figsize=(12,8))\n",
    "ax = fig.add_subplot(111)\n",
    "#ax.hist(obs_dist, bins=50, normed=True, color='red')\n",
    "ax.hist(sample, bins=50, normed=True, color='blue')\n",
    "#ax.plot(kde.support, kde.density, lw=2, color='black')\n",
    "ax.plot(kde2.support, kde2.density, lw=2, color='black')"
   ]
  },
  {
   "cell_type": "code",
   "execution_count": null,
   "metadata": {
    "collapsed": true
   },
   "outputs": [],
   "source": []
  }
 ],
 "metadata": {
  "kernelspec": {
   "display_name": "Python 3",
   "language": "python",
   "name": "python3"
  },
  "language_info": {
   "codemirror_mode": {
    "name": "ipython",
    "version": 3
   },
   "file_extension": ".py",
   "mimetype": "text/x-python",
   "name": "python",
   "nbconvert_exporter": "python",
   "pygments_lexer": "ipython3",
   "version": "3.6.3"
  }
 },
 "nbformat": 4,
 "nbformat_minor": 2
}
