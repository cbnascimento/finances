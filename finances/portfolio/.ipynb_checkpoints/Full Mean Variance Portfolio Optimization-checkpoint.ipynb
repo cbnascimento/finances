{
 "cells": [
  {
   "cell_type": "markdown",
   "metadata": {},
   "source": [
    "# Optimizing Portfolio"
   ]
  },
  {
   "cell_type": "code",
   "execution_count": 75,
   "metadata": {},
   "outputs": [],
   "source": [
    "%matplotlib inline\n",
    "\n",
    "import numpy as np\n",
    "import statsmodels.api as sm\n",
    "import pandas as pd\n",
    "import numpy as np\n",
    "from scipy.stats import norm\n"
   ]
  },
  {
   "cell_type": "code",
   "execution_count": 76,
   "metadata": {
    "collapsed": true
   },
   "outputs": [],
   "source": [
    "import sys\n",
    "sys.path.append('C:\\\\projects\\\\finances.git\\\\finances')\n",
    "\n",
    "from market import market_data as mkt_data"
   ]
  },
  {
   "cell_type": "code",
   "execution_count": 99,
   "metadata": {},
   "outputs": [
    {
     "name": "stdout",
     "output_type": "stream",
     "text": [
      "Loaded crypto currency database from C:\\projects\\finances.git\\finances\\market\\data_base\\crypto_currencies\\main_crypto_eur_database.csv\n"
     ]
    },
    {
     "data": {
      "text/html": [
       "<div>\n",
       "<style scoped>\n",
       "    .dataframe tbody tr th:only-of-type {\n",
       "        vertical-align: middle;\n",
       "    }\n",
       "\n",
       "    .dataframe tbody tr th {\n",
       "        vertical-align: top;\n",
       "    }\n",
       "\n",
       "    .dataframe thead th {\n",
       "        text-align: right;\n",
       "    }\n",
       "</style>\n",
       "<table border=\"1\" class=\"dataframe\">\n",
       "  <thead>\n",
       "    <tr style=\"text-align: right;\">\n",
       "      <th></th>\n",
       "      <th>ADA</th>\n",
       "      <th>BTC</th>\n",
       "      <th>ETH</th>\n",
       "      <th>XLM</th>\n",
       "      <th>XRP</th>\n",
       "      <th>TRX</th>\n",
       "      <th>LTC</th>\n",
       "    </tr>\n",
       "  </thead>\n",
       "  <tbody>\n",
       "    <tr>\n",
       "      <th>2018-01-26</th>\n",
       "      <td>-0.036571</td>\n",
       "      <td>-0.017715</td>\n",
       "      <td>-0.013276</td>\n",
       "      <td>0.023467</td>\n",
       "      <td>-0.065484</td>\n",
       "      <td>-0.038854</td>\n",
       "      <td>-0.021090</td>\n",
       "    </tr>\n",
       "    <tr>\n",
       "      <th>2018-01-27</th>\n",
       "      <td>0.004242</td>\n",
       "      <td>0.017949</td>\n",
       "      <td>0.030080</td>\n",
       "      <td>0.020217</td>\n",
       "      <td>-0.017327</td>\n",
       "      <td>0.015291</td>\n",
       "      <td>0.016189</td>\n",
       "    </tr>\n",
       "    <tr>\n",
       "      <th>2018-01-28</th>\n",
       "      <td>0.070729</td>\n",
       "      <td>0.041997</td>\n",
       "      <td>0.110610</td>\n",
       "      <td>0.008138</td>\n",
       "      <td>0.069972</td>\n",
       "      <td>0.006238</td>\n",
       "      <td>0.047017</td>\n",
       "    </tr>\n",
       "    <tr>\n",
       "      <th>2018-01-29</th>\n",
       "      <td>-0.038321</td>\n",
       "      <td>-0.027866</td>\n",
       "      <td>0.004044</td>\n",
       "      <td>-0.044600</td>\n",
       "      <td>0.036535</td>\n",
       "      <td>-0.047021</td>\n",
       "      <td>-0.018843</td>\n",
       "    </tr>\n",
       "    <tr>\n",
       "      <th>2018-01-30</th>\n",
       "      <td>-0.084624</td>\n",
       "      <td>-0.048675</td>\n",
       "      <td>-0.043338</td>\n",
       "      <td>-0.097802</td>\n",
       "      <td>-0.070102</td>\n",
       "      <td>-0.088038</td>\n",
       "      <td>-0.046568</td>\n",
       "    </tr>\n",
       "  </tbody>\n",
       "</table>\n",
       "</div>"
      ],
      "text/plain": [
       "                 ADA       BTC       ETH       XLM       XRP       TRX  \\\n",
       "2018-01-26 -0.036571 -0.017715 -0.013276  0.023467 -0.065484 -0.038854   \n",
       "2018-01-27  0.004242  0.017949  0.030080  0.020217 -0.017327  0.015291   \n",
       "2018-01-28  0.070729  0.041997  0.110610  0.008138  0.069972  0.006238   \n",
       "2018-01-29 -0.038321 -0.027866  0.004044 -0.044600  0.036535 -0.047021   \n",
       "2018-01-30 -0.084624 -0.048675 -0.043338 -0.097802 -0.070102 -0.088038   \n",
       "\n",
       "                 LTC  \n",
       "2018-01-26 -0.021090  \n",
       "2018-01-27  0.016189  \n",
       "2018-01-28  0.047017  \n",
       "2018-01-29 -0.018843  \n",
       "2018-01-30 -0.046568  "
      ]
     },
     "execution_count": 99,
     "metadata": {},
     "output_type": "execute_result"
    }
   ],
   "source": [
    "mkt=mkt_data.MarketData()\n",
    "returns_data = mkt.crypto_returns_history(\n",
    "    symbols=['ADA', 'BTC', 'ETH', 'XLM', 'XRP', 'TRX', 'LTC']\n",
    ").dropna()\n",
    "returns_data.tail()"
   ]
  },
  {
   "cell_type": "markdown",
   "metadata": {},
   "source": [
    "## Estimate distributions"
   ]
  },
  {
   "cell_type": "code",
   "execution_count": 130,
   "metadata": {},
   "outputs": [],
   "source": [
    "n_days = 30\n",
    "projected_returns = pd.DataFrame()\n",
    "for r in returns_data:\n",
    "    rets = returns_data[r]\n",
    "    \n",
    "    # MLE of the sample for a normal distribution (to be improved) \n",
    "    daily_mu, daily_std = norm.fit(rets)\n",
    "    monthly_mu, monthly_std = n_days*daily_mu, daily_std*np.sqrt(n_days)\n",
    "\n",
    "    # generate big sample with the monthly distribution\n",
    "    monthly_data = norm.rvs(monthly_mu, monthly_std, size=1000)\n",
    "    \n",
    "    #add that as new returns for the month\n",
    "    projected_returns[r] = monthly_data"
   ]
  },
  {
   "cell_type": "code",
   "execution_count": 131,
   "metadata": {},
   "outputs": [
    {
     "data": {
      "image/png": "[encoded data removed]",
      "text/plain": [
       "<matplotlib.figure.Figure at 0x1a177ec5a90>"
      ]
     },
     "metadata": {},
     "output_type": "display_data"
    }
   ],
   "source": [
    "x = np.linspace(-1.5,1.5,100)\n",
    "# get the pdf of the variables\n",
    "\n",
    "fig = plt.figure(figsize=(10,10))\n",
    "f = 1\n",
    "for r in returns_data.columns:\n",
    "    rets = returns_data[r]\n",
    "    daily_mu, daily_std = norm.fit(rets)\n",
    "    monthly_mu, monthly_std = n_days*daily_mu, daily_std*np.sqrt(n_days)\n",
    "    \n",
    "    # get pdf\n",
    "    p_daily = norm.pdf(x, daily_mu, daily_std)\n",
    "    p_monthly = norm.pdf(x, monthly_mu, monthly_std)\n",
    "\n",
    "    # create the figures\n",
    "    fig.add_subplot(4,4,f)\n",
    "    ax = plt.gca()\n",
    "    plt.plot(x, p_daily, label='Daily')\n",
    "    plt.plot(x, p_monthly, label='Monthly')\n",
    "    plt.hist(rets, bins=25, normed=True, alpha=0.5)\n",
    "    f+=1\n",
    "    ax.set_title('{}, {} values'.format(r, len(rets)))\n",
    "    ax.set_ylim(0,5)\n",
    "    ax.set_xlim(-3,3)"
   ]
  },
  {
   "cell_type": "code",
   "execution_count": 132,
   "metadata": {},
   "outputs": [
    {
     "data": {
      "text/html": [
       "<div>\n",
       "<style scoped>\n",
       "    .dataframe tbody tr th:only-of-type {\n",
       "        vertical-align: middle;\n",
       "    }\n",
       "\n",
       "    .dataframe tbody tr th {\n",
       "        vertical-align: top;\n",
       "    }\n",
       "\n",
       "    .dataframe thead th {\n",
       "        text-align: right;\n",
       "    }\n",
       "</style>\n",
       "<table border=\"1\" class=\"dataframe\">\n",
       "  <thead>\n",
       "    <tr style=\"text-align: right;\">\n",
       "      <th></th>\n",
       "      <th>ADA</th>\n",
       "      <th>BTC</th>\n",
       "      <th>ETH</th>\n",
       "      <th>XLM</th>\n",
       "      <th>XRP</th>\n",
       "    </tr>\n",
       "  </thead>\n",
       "  <tbody>\n",
       "    <tr>\n",
       "      <th>995</th>\n",
       "      <td>0.992705</td>\n",
       "      <td>0.216485</td>\n",
       "      <td>0.835562</td>\n",
       "      <td>0.041754</td>\n",
       "      <td>-0.157684</td>\n",
       "    </tr>\n",
       "    <tr>\n",
       "      <th>996</th>\n",
       "      <td>0.450965</td>\n",
       "      <td>0.129992</td>\n",
       "      <td>0.962418</td>\n",
       "      <td>0.098139</td>\n",
       "      <td>0.051314</td>\n",
       "    </tr>\n",
       "    <tr>\n",
       "      <th>997</th>\n",
       "      <td>0.913627</td>\n",
       "      <td>0.228670</td>\n",
       "      <td>-0.001189</td>\n",
       "      <td>-0.190743</td>\n",
       "      <td>0.169568</td>\n",
       "    </tr>\n",
       "    <tr>\n",
       "      <th>998</th>\n",
       "      <td>1.394013</td>\n",
       "      <td>-0.031223</td>\n",
       "      <td>0.780152</td>\n",
       "      <td>0.671168</td>\n",
       "      <td>0.068768</td>\n",
       "    </tr>\n",
       "    <tr>\n",
       "      <th>999</th>\n",
       "      <td>2.212035</td>\n",
       "      <td>-0.180615</td>\n",
       "      <td>1.204583</td>\n",
       "      <td>0.028860</td>\n",
       "      <td>0.275768</td>\n",
       "    </tr>\n",
       "  </tbody>\n",
       "</table>\n",
       "</div>"
      ],
      "text/plain": [
       "          ADA       BTC       ETH       XLM       XRP\n",
       "995  0.992705  0.216485  0.835562  0.041754 -0.157684\n",
       "996  0.450965  0.129992  0.962418  0.098139  0.051314\n",
       "997  0.913627  0.228670 -0.001189 -0.190743  0.169568\n",
       "998  1.394013 -0.031223  0.780152  0.671168  0.068768\n",
       "999  2.212035 -0.180615  1.204583  0.028860  0.275768"
      ]
     },
     "execution_count": 132,
     "metadata": {},
     "output_type": "execute_result"
    }
   ],
   "source": [
    "monthly_sample.tail()"
   ]
  },
  {
   "cell_type": "markdown",
   "metadata": {},
   "source": [
    "## Calculate Markowitz frontier"
   ]
  },
  {
   "cell_type": "code",
   "execution_count": 133,
   "metadata": {
    "collapsed": true
   },
   "outputs": [],
   "source": [
    "from math import sqrt\n",
    "from cvxopt import matrix\n",
    "from cvxopt.blas import dot\n",
    "from cvxopt.solvers import qp, options\n",
    "\n",
    "import portfolioopt as pfopt"
   ]
  },
  {
   "cell_type": "code",
   "execution_count": 134,
   "metadata": {},
   "outputs": [],
   "source": [
    "avg_rets = projected_returns.mean()\n",
    "cov_mat = projected_returns.cov()"
   ]
  },
  {
   "cell_type": "code",
   "execution_count": 135,
   "metadata": {},
   "outputs": [],
   "source": [
    "# calculate the Markowitz optimal allocations for each target return value\n",
    "optimal_allocation_list = []\n",
    "for k in np.arange(0.01,0.99, 0.01):\n",
    "    tgt_return = avg_rets.quantile(k)\n",
    "    optimal_weights = pfopt.markowitz_portfolio(cov_mat=cov_mat, exp_rets=avg_rets, target_ret=tgt_return)\n",
    "    optimal_allocation_list.append(optimal_weights)\n"
   ]
  },
  {
   "cell_type": "code",
   "execution_count": 136,
   "metadata": {},
   "outputs": [
    {
     "data": {
      "text/plain": [
       "ADA    0.025970\n",
       "BTC    0.324853\n",
       "ETH    0.361198\n",
       "XLM    0.043996\n",
       "XRP    0.066066\n",
       "TRX    0.024438\n",
       "LTC    0.153478\n",
       "dtype: float64"
      ]
     },
     "execution_count": 136,
     "metadata": {},
     "output_type": "execute_result"
    }
   ],
   "source": [
    "optimal_allocation_list[0]"
   ]
  },
  {
   "cell_type": "code",
   "execution_count": 137,
   "metadata": {
    "collapsed": true
   },
   "outputs": [],
   "source": [
    "matrix_rets = avg_rets.as_matrix()\n",
    "matrix_cov = cov_mat.as_matrix()\n",
    "returns = [x.dot(matrix_rets) for x in optimal_allocation_list]\n",
    "risks = [sqrt(x.dot(matrix_cov.dot(x))) for x in optimal_allocation_list]"
   ]
  },
  {
   "cell_type": "code",
   "execution_count": 138,
   "metadata": {},
   "outputs": [
    {
     "data": {
      "text/plain": [
       "[<matplotlib.lines.Line2D at 0x1a1781e5d68>]"
      ]
     },
     "execution_count": 138,
     "metadata": {},
     "output_type": "execute_result"
    },
    {
     "data": {
      "image/png": "[encoded data removed]",
      "text/plain": [
       "<matplotlib.figure.Figure at 0x1a177ece898>"
      ]
     },
     "metadata": {},
     "output_type": "display_data"
    }
   ],
   "source": [
    "plt.plot(risks, returns)"
   ]
  },
  {
   "cell_type": "code",
   "execution_count": 140,
   "metadata": {},
   "outputs": [
    {
     "data": {
      "text/plain": [
       "ADA    0.066972\n",
       "BTC    0.230979\n",
       "ETH    0.312071\n",
       "XLM    0.098751\n",
       "XRP    0.091521\n",
       "TRX    0.058295\n",
       "LTC    0.141413\n",
       "dtype: float64"
      ]
     },
     "execution_count": 140,
     "metadata": {},
     "output_type": "execute_result"
    }
   ],
   "source": [
    "pfopt.markowitz_portfolio(cov_mat=cov_mat, exp_rets=avg_rets, target_ret=0.6)"
   ]
  },
  {
   "cell_type": "markdown",
   "metadata": {},
   "source": [
    "## Utility function"
   ]
  },
  {
   "cell_type": "code",
   "execution_count": null,
   "metadata": {
    "collapsed": true
   },
   "outputs": [],
   "source": [
    "def utility()"
   ]
  }
 ],
 "metadata": {
  "kernelspec": {
   "display_name": "Python 3",
   "language": "python",
   "name": "python3"
  },
  "language_info": {
   "codemirror_mode": {
    "name": "ipython",
    "version": 3
   },
   "file_extension": ".py",
   "mimetype": "text/x-python",
   "name": "python",
   "nbconvert_exporter": "python",
   "pygments_lexer": "ipython3",
   "version": "3.6.3"
  }
 },
 "nbformat": 4,
 "nbformat_minor": 2
}
