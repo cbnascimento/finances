{
 "cells": [
  {
   "cell_type": "code",
   "execution_count": 1,
   "metadata": {},
   "outputs": [
    {
     "name": "stderr",
     "output_type": "stream",
     "text": [
      "C:\\Anaconda3\\envs\\finance\\lib\\site-packages\\statsmodels\\compat\\pandas.py:56: FutureWarning: The pandas.core.datetools module is deprecated and will be removed in a future version. Please use the pandas.tseries module instead.\n",
      "  from pandas.core import datetools\n"
     ]
    },
    {
     "name": "stdout",
     "output_type": "stream",
     "text": [
      "Loaded crypto currency database from C:\\projects\\finances.git\\finances\\market\\data_base\\crypto_currencies\\main_crypto_eur_database.csv\n"
     ]
    }
   ],
   "source": [
    "%matplotlib inline\n",
    "\n",
    "import numpy as np\n",
    "import statsmodels.api as sm\n",
    "import pandas as pd\n",
    "import numpy as np\n",
    "from scipy.stats import norm\n",
    "import matplotlib.pyplot as plt\n",
    "import datetime\n",
    "\n",
    "import sys\n",
    "sys.path.append('C:\\\\projects\\\\finances.git\\\\finances')\n",
    "\n",
    "from market.market_data import MarketData\n",
    "mkt = MarketData()"
   ]
  },
  {
   "cell_type": "code",
   "execution_count": 2,
   "metadata": {},
   "outputs": [
    {
     "name": "stdout",
     "output_type": "stream",
     "text": [
      "Loaded crypto currency database from C:\\projects\\finances.git\\finances\\market\\data_base\\crypto_currencies\\main_crypto_eur_database.csv\n"
     ]
    }
   ],
   "source": [
    "from porfolio.portfolio import PortFolio"
   ]
  },
  {
   "cell_type": "code",
   "execution_count": 3,
   "metadata": {
    "collapsed": true
   },
   "outputs": [],
   "source": [
    "portfolio_assets = {\n",
    "    'BTC': 0.007,\n",
    "    'ETH': 2.14081,\n",
    "    'XRP': 922.5,\n",
    "    'ADA': 926,\n",
    "    'XLM': 929.07,\n",
    "    'LTC': 1.0,\n",
    "    'TRX': 2760,\n",
    "    'UBQ': 18.222,\n",
    "    'BIS': 36.6,\n",
    "    'IOTA': 47.553,\n",
    "    'EMC2': 45,\n",
    "    'FUN': 633.366,\n",
    "    'ADST': 136.71\n",
    "}\n",
    "\n",
    "new_portfolio_assets = {\n",
    "    'BTC': 0.08074255978,\n",
    "    'ETH': 2.14081031,\n",
    "    'LTC': 1.50000003,\n",
    "    'XRP': 130,\n",
    "    'DASH': 0.286593,\n",
    "    'XMR': 1.32867,\n",
    "    'IOTA': 47.553,\n",
    "    'ADA': 0.073,\n",
    "    'XLM': 279.07,\n",
    "    'TRX': 0.237,\n",
    "    'FUN': 2550.366,\n",
    "    'EMC2': 45,\n",
    "    'UBQ': 18.22222222,\n",
    "    'BIS': 36.59233533,\n",
    "    'ADST':   136.71\n",
    "}\n",
    "\n",
    "assets_effective_price = {\n",
    "    'BTC': 0.1,\n",
    "    'ETH': 454.96,\n",
    "    'XRP': 0.772,\n",
    "    'ADA': 0.404,\n",
    "    'XLM': 0.378,\n",
    "    'LTC': 208.23,\n",
    "    'TRX': 0.0668,\n",
    "    'UBQ': 5.7,\n",
    "    'BIS': 3.48,\n",
    "    'IOTA': 3.08,\n",
    "    'EMC2': 0.769,\n",
    "    'FUN': 0.0897,\n",
    "    'ADST': 0.817   \n",
    "}"
   ]
  },
  {
   "cell_type": "code",
   "execution_count": 4,
   "metadata": {},
   "outputs": [
    {
     "name": "stdout",
     "output_type": "stream",
     "text": [
      "C:\\projects\\finances.git\\finances\\porfolio\\PedroPortfolio\n",
      "Loaded portfolio database from C:\\projects\\finances.git\\finances\\porfolio\\PedroPortfolio\\assets_allocation_data.csv\n"
     ]
    }
   ],
   "source": [
    "import pylab as plt\n",
    "import seaborn as sns\n",
    "from pprint import pprint\n",
    "\n",
    "sns.set()\n",
    "\n",
    "myportfolio = PortFolio(\n",
    "    name= 'PedroPortfolio'\n",
    "    )"
   ]
  },
  {
   "cell_type": "markdown",
   "metadata": {},
   "source": [
    "# Portfolio Comparison"
   ]
  },
  {
   "cell_type": "code",
   "execution_count": 5,
   "metadata": {},
   "outputs": [
    {
     "data": {
      "text/html": [
       "<div>\n",
       "<style scoped>\n",
       "    .dataframe tbody tr th:only-of-type {\n",
       "        vertical-align: middle;\n",
       "    }\n",
       "\n",
       "    .dataframe tbody tr th {\n",
       "        vertical-align: top;\n",
       "    }\n",
       "\n",
       "    .dataframe thead th {\n",
       "        text-align: right;\n",
       "    }\n",
       "</style>\n",
       "<table border=\"1\" class=\"dataframe\">\n",
       "  <thead>\n",
       "    <tr style=\"text-align: right;\">\n",
       "      <th></th>\n",
       "      <th>ADA</th>\n",
       "      <th>ADST</th>\n",
       "      <th>BIS</th>\n",
       "      <th>BTC</th>\n",
       "      <th>DASH</th>\n",
       "      <th>EMC2</th>\n",
       "      <th>ETH</th>\n",
       "      <th>FUN</th>\n",
       "      <th>IOTA</th>\n",
       "      <th>LTC</th>\n",
       "      <th>TRX</th>\n",
       "      <th>UBQ</th>\n",
       "      <th>XLM</th>\n",
       "      <th>XMR</th>\n",
       "      <th>XRP</th>\n",
       "    </tr>\n",
       "  </thead>\n",
       "  <tbody>\n",
       "    <tr>\n",
       "      <th>2018-01-01 00:00:00</th>\n",
       "      <td>926.000</td>\n",
       "      <td>136.71</td>\n",
       "      <td>36.600000</td>\n",
       "      <td>0.007000</td>\n",
       "      <td>0.000000</td>\n",
       "      <td>45.0</td>\n",
       "      <td>2.14081</td>\n",
       "      <td>633.366</td>\n",
       "      <td>47.553</td>\n",
       "      <td>1.0</td>\n",
       "      <td>2760.000</td>\n",
       "      <td>18.222000</td>\n",
       "      <td>929.07</td>\n",
       "      <td>0.00000</td>\n",
       "      <td>922.5</td>\n",
       "    </tr>\n",
       "    <tr>\n",
       "      <th>2018-01-18 01:36:00</th>\n",
       "      <td>926.000</td>\n",
       "      <td>136.71</td>\n",
       "      <td>36.600000</td>\n",
       "      <td>0.007000</td>\n",
       "      <td>0.000000</td>\n",
       "      <td>45.0</td>\n",
       "      <td>2.14081</td>\n",
       "      <td>633.366</td>\n",
       "      <td>47.553</td>\n",
       "      <td>1.0</td>\n",
       "      <td>2760.000</td>\n",
       "      <td>18.222000</td>\n",
       "      <td>929.07</td>\n",
       "      <td>0.00000</td>\n",
       "      <td>922.5</td>\n",
       "    </tr>\n",
       "    <tr>\n",
       "      <th>2018-01-18 01:43:00</th>\n",
       "      <td>926.000</td>\n",
       "      <td>136.71</td>\n",
       "      <td>36.600000</td>\n",
       "      <td>0.007000</td>\n",
       "      <td>0.000000</td>\n",
       "      <td>45.0</td>\n",
       "      <td>2.14081</td>\n",
       "      <td>633.366</td>\n",
       "      <td>47.553</td>\n",
       "      <td>1.0</td>\n",
       "      <td>2760.000</td>\n",
       "      <td>18.222000</td>\n",
       "      <td>929.07</td>\n",
       "      <td>0.00000</td>\n",
       "      <td>922.5</td>\n",
       "    </tr>\n",
       "    <tr>\n",
       "      <th>2018-01-18 08:02:00</th>\n",
       "      <td>926.000</td>\n",
       "      <td>136.71</td>\n",
       "      <td>36.600000</td>\n",
       "      <td>0.007000</td>\n",
       "      <td>0.000000</td>\n",
       "      <td>45.0</td>\n",
       "      <td>2.14081</td>\n",
       "      <td>633.366</td>\n",
       "      <td>47.553</td>\n",
       "      <td>1.0</td>\n",
       "      <td>2760.000</td>\n",
       "      <td>18.222000</td>\n",
       "      <td>929.07</td>\n",
       "      <td>0.00000</td>\n",
       "      <td>922.5</td>\n",
       "    </tr>\n",
       "    <tr>\n",
       "      <th>2018-01-18 22:29:00</th>\n",
       "      <td>926.000</td>\n",
       "      <td>136.71</td>\n",
       "      <td>36.600000</td>\n",
       "      <td>0.007000</td>\n",
       "      <td>0.000000</td>\n",
       "      <td>45.0</td>\n",
       "      <td>2.14081</td>\n",
       "      <td>633.366</td>\n",
       "      <td>47.553</td>\n",
       "      <td>1.0</td>\n",
       "      <td>2760.000</td>\n",
       "      <td>18.222000</td>\n",
       "      <td>929.07</td>\n",
       "      <td>0.00000</td>\n",
       "      <td>922.5</td>\n",
       "    </tr>\n",
       "    <tr>\n",
       "      <th>2018-01-18 22:41:00</th>\n",
       "      <td>926.000</td>\n",
       "      <td>136.71</td>\n",
       "      <td>36.600000</td>\n",
       "      <td>0.007000</td>\n",
       "      <td>0.000000</td>\n",
       "      <td>45.0</td>\n",
       "      <td>2.14081</td>\n",
       "      <td>633.366</td>\n",
       "      <td>47.553</td>\n",
       "      <td>1.0</td>\n",
       "      <td>2760.000</td>\n",
       "      <td>18.222000</td>\n",
       "      <td>929.07</td>\n",
       "      <td>0.00000</td>\n",
       "      <td>922.5</td>\n",
       "    </tr>\n",
       "    <tr>\n",
       "      <th>2018-01-21 17:00:00</th>\n",
       "      <td>926.000</td>\n",
       "      <td>136.71</td>\n",
       "      <td>36.600000</td>\n",
       "      <td>0.007000</td>\n",
       "      <td>0.000000</td>\n",
       "      <td>45.0</td>\n",
       "      <td>2.14081</td>\n",
       "      <td>633.366</td>\n",
       "      <td>47.553</td>\n",
       "      <td>1.0</td>\n",
       "      <td>2760.000</td>\n",
       "      <td>18.222000</td>\n",
       "      <td>929.07</td>\n",
       "      <td>0.00000</td>\n",
       "      <td>922.5</td>\n",
       "    </tr>\n",
       "    <tr>\n",
       "      <th>2018-01-21 17:01:00</th>\n",
       "      <td>926.000</td>\n",
       "      <td>136.71</td>\n",
       "      <td>36.600000</td>\n",
       "      <td>0.007000</td>\n",
       "      <td>0.000000</td>\n",
       "      <td>45.0</td>\n",
       "      <td>2.14081</td>\n",
       "      <td>633.366</td>\n",
       "      <td>47.553</td>\n",
       "      <td>1.0</td>\n",
       "      <td>2760.000</td>\n",
       "      <td>18.222000</td>\n",
       "      <td>929.07</td>\n",
       "      <td>0.00000</td>\n",
       "      <td>922.5</td>\n",
       "    </tr>\n",
       "    <tr>\n",
       "      <th>2018-02-06 00:00:00</th>\n",
       "      <td>0.073</td>\n",
       "      <td>136.71</td>\n",
       "      <td>36.592335</td>\n",
       "      <td>0.080743</td>\n",
       "      <td>0.286593</td>\n",
       "      <td>45.0</td>\n",
       "      <td>2.14081</td>\n",
       "      <td>2550.366</td>\n",
       "      <td>47.553</td>\n",
       "      <td>1.5</td>\n",
       "      <td>0.237</td>\n",
       "      <td>18.222222</td>\n",
       "      <td>279.07</td>\n",
       "      <td>1.32867</td>\n",
       "      <td>130.0</td>\n",
       "    </tr>\n",
       "  </tbody>\n",
       "</table>\n",
       "</div>"
      ],
      "text/plain": [
       "                         ADA    ADST        BIS       BTC      DASH  EMC2  \\\n",
       "2018-01-01 00:00:00  926.000  136.71  36.600000  0.007000  0.000000  45.0   \n",
       "2018-01-18 01:36:00  926.000  136.71  36.600000  0.007000  0.000000  45.0   \n",
       "2018-01-18 01:43:00  926.000  136.71  36.600000  0.007000  0.000000  45.0   \n",
       "2018-01-18 08:02:00  926.000  136.71  36.600000  0.007000  0.000000  45.0   \n",
       "2018-01-18 22:29:00  926.000  136.71  36.600000  0.007000  0.000000  45.0   \n",
       "2018-01-18 22:41:00  926.000  136.71  36.600000  0.007000  0.000000  45.0   \n",
       "2018-01-21 17:00:00  926.000  136.71  36.600000  0.007000  0.000000  45.0   \n",
       "2018-01-21 17:01:00  926.000  136.71  36.600000  0.007000  0.000000  45.0   \n",
       "2018-02-06 00:00:00    0.073  136.71  36.592335  0.080743  0.286593  45.0   \n",
       "\n",
       "                         ETH       FUN    IOTA  LTC       TRX        UBQ  \\\n",
       "2018-01-01 00:00:00  2.14081   633.366  47.553  1.0  2760.000  18.222000   \n",
       "2018-01-18 01:36:00  2.14081   633.366  47.553  1.0  2760.000  18.222000   \n",
       "2018-01-18 01:43:00  2.14081   633.366  47.553  1.0  2760.000  18.222000   \n",
       "2018-01-18 08:02:00  2.14081   633.366  47.553  1.0  2760.000  18.222000   \n",
       "2018-01-18 22:29:00  2.14081   633.366  47.553  1.0  2760.000  18.222000   \n",
       "2018-01-18 22:41:00  2.14081   633.366  47.553  1.0  2760.000  18.222000   \n",
       "2018-01-21 17:00:00  2.14081   633.366  47.553  1.0  2760.000  18.222000   \n",
       "2018-01-21 17:01:00  2.14081   633.366  47.553  1.0  2760.000  18.222000   \n",
       "2018-02-06 00:00:00  2.14081  2550.366  47.553  1.5     0.237  18.222222   \n",
       "\n",
       "                        XLM      XMR    XRP  \n",
       "2018-01-01 00:00:00  929.07  0.00000  922.5  \n",
       "2018-01-18 01:36:00  929.07  0.00000  922.5  \n",
       "2018-01-18 01:43:00  929.07  0.00000  922.5  \n",
       "2018-01-18 08:02:00  929.07  0.00000  922.5  \n",
       "2018-01-18 22:29:00  929.07  0.00000  922.5  \n",
       "2018-01-18 22:41:00  929.07  0.00000  922.5  \n",
       "2018-01-21 17:00:00  929.07  0.00000  922.5  \n",
       "2018-01-21 17:01:00  929.07  0.00000  922.5  \n",
       "2018-02-06 00:00:00  279.07  1.32867  130.0  "
      ]
     },
     "execution_count": 5,
     "metadata": {},
     "output_type": "execute_result"
    }
   ],
   "source": [
    "myportfolio.assets_data"
   ]
  },
  {
   "cell_type": "code",
   "execution_count": 6,
   "metadata": {},
   "outputs": [
    {
     "data": {
      "text/plain": [
       "{'ADA': 926,\n",
       " 'ADST': 136.71,\n",
       " 'BIS': 36.6,\n",
       " 'BTC': 0.007,\n",
       " 'EMC2': 45,\n",
       " 'ETH': 2.14081,\n",
       " 'FUN': 633.366,\n",
       " 'IOTA': 47.553,\n",
       " 'LTC': 1.0,\n",
       " 'TRX': 2760,\n",
       " 'UBQ': 18.222,\n",
       " 'XLM': 929.07,\n",
       " 'XRP': 922.5}"
      ]
     },
     "execution_count": 6,
     "metadata": {},
     "output_type": "execute_result"
    }
   ],
   "source": [
    "optimized_pfl = PortFolio()\n",
    "optimized_pfl.assets = portfolio_assets\n",
    "optimized_pfl.assets"
   ]
  },
  {
   "cell_type": "code",
   "execution_count": 7,
   "metadata": {},
   "outputs": [
    {
     "name": "stdout",
     "output_type": "stream",
     "text": [
      "Loaded crypto currency database from C:\\projects\\finances.git\\finances\\market\\data_base\\crypto_currencies\\main_crypto_eur_database.csv\n"
     ]
    }
   ],
   "source": [
    "optimal_allocation = optimized_pfl.optimize_allocation(target_return=0.1, end_date=datetime.datetime(2017,11,1))"
   ]
  },
  {
   "cell_type": "code",
   "execution_count": 8,
   "metadata": {},
   "outputs": [
    {
     "data": {
      "text/plain": [
       "251.1970375473648"
      ]
     },
     "execution_count": 8,
     "metadata": {},
     "output_type": "execute_result"
    }
   ],
   "source": [
    "mkt.get_price_at_date(symbols='ETH', date=datetime.datetime(2017,11,1)).values[0]"
   ]
  },
  {
   "cell_type": "code",
   "execution_count": 9,
   "metadata": {},
   "outputs": [],
   "source": [
    "prices = [mkt.get_price_at_date(symbols=symbol, date=datetime.datetime(2017,11,1)).values[0]\n",
    "          for symbol in optimal_allocation.index]"
   ]
  },
  {
   "cell_type": "code",
   "execution_count": 10,
   "metadata": {},
   "outputs": [
    {
     "data": {
      "text/html": [
       "<div>\n",
       "<style scoped>\n",
       "    .dataframe tbody tr th:only-of-type {\n",
       "        vertical-align: middle;\n",
       "    }\n",
       "\n",
       "    .dataframe tbody tr th {\n",
       "        vertical-align: top;\n",
       "    }\n",
       "\n",
       "    .dataframe thead th {\n",
       "        text-align: right;\n",
       "    }\n",
       "</style>\n",
       "<table border=\"1\" class=\"dataframe\">\n",
       "  <thead>\n",
       "    <tr style=\"text-align: right;\">\n",
       "      <th></th>\n",
       "      <th>weigths</th>\n",
       "      <th>prices</th>\n",
       "      <th>assets</th>\n",
       "    </tr>\n",
       "  </thead>\n",
       "  <tbody>\n",
       "    <tr>\n",
       "      <th>BTC</th>\n",
       "      <td>0.229980</td>\n",
       "      <td>5827.859111</td>\n",
       "      <td>0.078924</td>\n",
       "    </tr>\n",
       "    <tr>\n",
       "      <th>ETH</th>\n",
       "      <td>0.231901</td>\n",
       "      <td>251.197038</td>\n",
       "      <td>1.846366</td>\n",
       "    </tr>\n",
       "    <tr>\n",
       "      <th>XRP</th>\n",
       "      <td>0.050056</td>\n",
       "      <td>0.167175</td>\n",
       "      <td>598.840593</td>\n",
       "    </tr>\n",
       "    <tr>\n",
       "      <th>ADA</th>\n",
       "      <td>0.028721</td>\n",
       "      <td>0.019795</td>\n",
       "      <td>2901.876501</td>\n",
       "    </tr>\n",
       "    <tr>\n",
       "      <th>XLM</th>\n",
       "      <td>0.037454</td>\n",
       "      <td>0.023556</td>\n",
       "      <td>3180.063600</td>\n",
       "    </tr>\n",
       "    <tr>\n",
       "      <th>LTC</th>\n",
       "      <td>0.111231</td>\n",
       "      <td>45.797451</td>\n",
       "      <td>4.857505</td>\n",
       "    </tr>\n",
       "    <tr>\n",
       "      <th>TRX</th>\n",
       "      <td>0.022758</td>\n",
       "      <td>0.002162</td>\n",
       "      <td>21057.278236</td>\n",
       "    </tr>\n",
       "    <tr>\n",
       "      <th>UBQ</th>\n",
       "      <td>0.076252</td>\n",
       "      <td>0.981743</td>\n",
       "      <td>155.339232</td>\n",
       "    </tr>\n",
       "    <tr>\n",
       "      <th>BIS</th>\n",
       "      <td>0.030979</td>\n",
       "      <td>0.352252</td>\n",
       "      <td>175.891008</td>\n",
       "    </tr>\n",
       "    <tr>\n",
       "      <th>IOTA</th>\n",
       "      <td>0.068256</td>\n",
       "      <td>0.313400</td>\n",
       "      <td>435.584630</td>\n",
       "    </tr>\n",
       "    <tr>\n",
       "      <th>EMC2</th>\n",
       "      <td>0.021399</td>\n",
       "      <td>0.056499</td>\n",
       "      <td>757.496949</td>\n",
       "    </tr>\n",
       "    <tr>\n",
       "      <th>FUN</th>\n",
       "      <td>0.061854</td>\n",
       "      <td>0.013862</td>\n",
       "      <td>8924.038911</td>\n",
       "    </tr>\n",
       "    <tr>\n",
       "      <th>ADST</th>\n",
       "      <td>0.029159</td>\n",
       "      <td>0.104154</td>\n",
       "      <td>559.916242</td>\n",
       "    </tr>\n",
       "  </tbody>\n",
       "</table>\n",
       "</div>"
      ],
      "text/plain": [
       "       weigths       prices        assets\n",
       "BTC   0.229980  5827.859111      0.078924\n",
       "ETH   0.231901   251.197038      1.846366\n",
       "XRP   0.050056     0.167175    598.840593\n",
       "ADA   0.028721     0.019795   2901.876501\n",
       "XLM   0.037454     0.023556   3180.063600\n",
       "LTC   0.111231    45.797451      4.857505\n",
       "TRX   0.022758     0.002162  21057.278236\n",
       "UBQ   0.076252     0.981743    155.339232\n",
       "BIS   0.030979     0.352252    175.891008\n",
       "IOTA  0.068256     0.313400    435.584630\n",
       "EMC2  0.021399     0.056499    757.496949\n",
       "FUN   0.061854     0.013862   8924.038911\n",
       "ADST  0.029159     0.104154    559.916242"
      ]
     },
     "execution_count": 10,
     "metadata": {},
     "output_type": "execute_result"
    }
   ],
   "source": [
    "a = pd.DataFrame()\n",
    "a['weigths'] = optimal_allocation\n",
    "a['prices']= prices\n",
    "a['assets']= optimal_allocation*2000/prices\n",
    "a"
   ]
  },
  {
   "cell_type": "code",
   "execution_count": 11,
   "metadata": {},
   "outputs": [
    {
     "data": {
      "text/plain": [
       "{'ADA': 2901.8765008485975,\n",
       " 'ADST': 559.91624158848754,\n",
       " 'BIS': 175.89100837071476,\n",
       " 'BTC': 0.078924315955266944,\n",
       " 'EMC2': 757.49694855502901,\n",
       " 'ETH': 1.8463661183096427,\n",
       " 'FUN': 8924.0389108092313,\n",
       " 'IOTA': 435.58462974193753,\n",
       " 'LTC': 4.857504964134483,\n",
       " 'TRX': 21057.278236084661,\n",
       " 'UBQ': 155.33923171570336,\n",
       " 'XLM': 3180.0636001445446,\n",
       " 'XRP': 598.84059302400635}"
      ]
     },
     "execution_count": 11,
     "metadata": {},
     "output_type": "execute_result"
    }
   ],
   "source": [
    "optimized_assets = dict(zip(a.index,a.assets.values))\n",
    "optimized_assets"
   ]
  },
  {
   "cell_type": "code",
   "execution_count": 15,
   "metadata": {},
   "outputs": [
    {
     "data": {
      "text/html": [
       "<div>\n",
       "<style scoped>\n",
       "    .dataframe tbody tr th:only-of-type {\n",
       "        vertical-align: middle;\n",
       "    }\n",
       "\n",
       "    .dataframe tbody tr th {\n",
       "        vertical-align: top;\n",
       "    }\n",
       "\n",
       "    .dataframe thead th {\n",
       "        text-align: right;\n",
       "    }\n",
       "</style>\n",
       "<table border=\"1\" class=\"dataframe\">\n",
       "  <thead>\n",
       "    <tr style=\"text-align: right;\">\n",
       "      <th></th>\n",
       "      <th>ADA</th>\n",
       "      <th>ADST</th>\n",
       "      <th>BIS</th>\n",
       "      <th>BTC</th>\n",
       "      <th>EMC2</th>\n",
       "      <th>ETH</th>\n",
       "      <th>FUN</th>\n",
       "      <th>IOTA</th>\n",
       "      <th>LTC</th>\n",
       "      <th>TRX</th>\n",
       "      <th>UBQ</th>\n",
       "      <th>XLM</th>\n",
       "      <th>XRP</th>\n",
       "    </tr>\n",
       "  </thead>\n",
       "  <tbody>\n",
       "    <tr>\n",
       "      <th>2017-11-01 00:00:00.000000</th>\n",
       "      <td>2901.876501</td>\n",
       "      <td>559.916242</td>\n",
       "      <td>175.891008</td>\n",
       "      <td>0.078924</td>\n",
       "      <td>757.496949</td>\n",
       "      <td>1.846366</td>\n",
       "      <td>8924.038911</td>\n",
       "      <td>435.58463</td>\n",
       "      <td>4.857505</td>\n",
       "      <td>21057.278236</td>\n",
       "      <td>155.339232</td>\n",
       "      <td>3180.0636</td>\n",
       "      <td>598.840593</td>\n",
       "    </tr>\n",
       "    <tr>\n",
       "      <th>2018-02-08 00:08:46.657728</th>\n",
       "      <td>2901.876501</td>\n",
       "      <td>559.916242</td>\n",
       "      <td>175.891008</td>\n",
       "      <td>0.078924</td>\n",
       "      <td>757.496949</td>\n",
       "      <td>1.846366</td>\n",
       "      <td>8924.038911</td>\n",
       "      <td>435.58463</td>\n",
       "      <td>4.857505</td>\n",
       "      <td>21057.278236</td>\n",
       "      <td>155.339232</td>\n",
       "      <td>3180.0636</td>\n",
       "      <td>598.840593</td>\n",
       "    </tr>\n",
       "  </tbody>\n",
       "</table>\n",
       "</div>"
      ],
      "text/plain": [
       "                                    ADA        ADST         BIS       BTC  \\\n",
       "2017-11-01 00:00:00.000000  2901.876501  559.916242  175.891008  0.078924   \n",
       "2018-02-08 00:08:46.657728  2901.876501  559.916242  175.891008  0.078924   \n",
       "\n",
       "                                  EMC2       ETH          FUN       IOTA  \\\n",
       "2017-11-01 00:00:00.000000  757.496949  1.846366  8924.038911  435.58463   \n",
       "2018-02-08 00:08:46.657728  757.496949  1.846366  8924.038911  435.58463   \n",
       "\n",
       "                                 LTC           TRX         UBQ        XLM  \\\n",
       "2017-11-01 00:00:00.000000  4.857505  21057.278236  155.339232  3180.0636   \n",
       "2018-02-08 00:08:46.657728  4.857505  21057.278236  155.339232  3180.0636   \n",
       "\n",
       "                                   XRP  \n",
       "2017-11-01 00:00:00.000000  598.840593  \n",
       "2018-02-08 00:08:46.657728  598.840593  "
      ]
     },
     "execution_count": 15,
     "metadata": {},
     "output_type": "execute_result"
    }
   ],
   "source": [
    "optimized_pfl.insert_assets_at_date(assets=optimized_assets, date=datetime.datetime(2017,11,1))\n",
    "optimized_pfl.insert_assets_at_date(assets=optimized_assets, date=datetime.datetime.now())"
   ]
  },
  {
   "cell_type": "code",
   "execution_count": 19,
   "metadata": {},
   "outputs": [
    {
     "data": {
      "text/plain": [
       "<matplotlib.axes._subplots.AxesSubplot at 0x18e620744a8>"
      ]
     },
     "execution_count": 19,
     "metadata": {},
     "output_type": "execute_result"
    },
    {
     "data": {
      "image/png": "[encoded data removed]",
      "text/plain": [
       "<matplotlib.figure.Figure at 0x18e61e73f98>"
      ]
     },
     "metadata": {},
     "output_type": "display_data"
    }
   ],
   "source": [
    "optimized_pfl.update_data()\n",
    "optimized_pfl.relative_variation_since(n_days=1,start_date=datetime.datetime(2017,11,1))['TOTAL'].plot()"
   ]
  },
  {
   "cell_type": "code",
   "execution_count": 21,
   "metadata": {},
   "outputs": [
    {
     "data": {
      "text/plain": [
       "<matplotlib.axes._subplots.AxesSubplot at 0x18e63135b00>"
      ]
     },
     "execution_count": 21,
     "metadata": {},
     "output_type": "execute_result"
    },
    {
     "data": {
      "image/png": "[encoded data removed]",
      "text/plain": [
       "<matplotlib.figure.Figure at 0x18e61e9d240>"
      ]
     },
     "metadata": {},
     "output_type": "display_data"
    }
   ],
   "source": [
    "myportfolio.insert_assets_at_date(assets=portfolio_assets, date=datetime.datetime(2017,11,1))\n",
    "myportfolio.update_data()\n",
    "myportfolio.relative_variation_since(n_days=1,start_date=datetime.datetime(2017,11,1))['TOTAL'].plot()\n",
    "optimized_pfl.relative_variation_since(n_days=1,start_date=datetime.datetime(2017,11,1))['TOTAL'].plot()"
   ]
  },
  {
   "cell_type": "code",
   "execution_count": null,
   "metadata": {
    "collapsed": true
   },
   "outputs": [],
   "source": []
  }
 ],
 "metadata": {
  "kernelspec": {
   "display_name": "Python 3",
   "language": "python",
   "name": "python3"
  },
  "language_info": {
   "codemirror_mode": {
    "name": "ipython",
    "version": 3
   },
   "file_extension": ".py",
   "mimetype": "text/x-python",
   "name": "python",
   "nbconvert_exporter": "python",
   "pygments_lexer": "ipython3",
   "version": "3.6.3"
  }
 },
 "nbformat": 4,
 "nbformat_minor": 2
}
