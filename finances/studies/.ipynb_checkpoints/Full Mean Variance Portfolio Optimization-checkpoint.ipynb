{
 "cells": [
  {
   "cell_type": "markdown",
   "metadata": {},
   "source": [
    "# Optimizing Portfolio"
   ]
  },
  {
   "cell_type": "code",
   "execution_count": 75,
   "metadata": {
    "collapsed": true
   },
   "outputs": [],
   "source": [
    "%matplotlib inline\n",
    "\n",
    "import numpy as np\n",
    "import statsmodels.api as sm\n",
    "import pandas as pd\n",
    "import numpy as np\n",
    "from scipy.stats import norm\n"
   ]
  },
  {
   "cell_type": "code",
   "execution_count": 1,
   "metadata": {
    "collapsed": true
   },
   "outputs": [],
   "source": [
    "import sys\n",
    "sys.path.append('C:\\\\projects\\\\finances.git\\\\finances')\n",
    "\n",
    "from finances.market import market_data as mkt_data"
   ]
  },
  {
   "cell_type": "code",
   "execution_count": 6,
   "metadata": {},
   "outputs": [
    {
     "name": "stdout",
     "output_type": "stream",
     "text": [
      "Loaded crypto currency database from C:\\projects\\finances.git\\finances\\market\\data_base\\crypto_currencies\\main_crypto_eur_database.csv\n"
     ]
    },
    {
     "data": {
      "text/html": [
       "<div>\n",
       "<style scoped>\n",
       "    .dataframe tbody tr th:only-of-type {\n",
       "        vertical-align: middle;\n",
       "    }\n",
       "\n",
       "    .dataframe tbody tr th {\n",
       "        vertical-align: top;\n",
       "    }\n",
       "\n",
       "    .dataframe thead th {\n",
       "        text-align: right;\n",
       "    }\n",
       "</style>\n",
       "<table border=\"1\" class=\"dataframe\">\n",
       "  <thead>\n",
       "    <tr style=\"text-align: right;\">\n",
       "      <th></th>\n",
       "      <th>ADA</th>\n",
       "      <th>BTC</th>\n",
       "      <th>ETH</th>\n",
       "      <th>XLM</th>\n",
       "      <th>XRP</th>\n",
       "      <th>TRX</th>\n",
       "      <th>LTC</th>\n",
       "    </tr>\n",
       "  </thead>\n",
       "  <tbody>\n",
       "    <tr>\n",
       "      <th>2017-10-04</th>\n",
       "      <td>0.050526</td>\n",
       "      <td>-0.023236</td>\n",
       "      <td>-0.002203</td>\n",
       "      <td>-0.047262</td>\n",
       "      <td>0.053298</td>\n",
       "      <td>0.324326</td>\n",
       "      <td>-0.020979</td>\n",
       "    </tr>\n",
       "    <tr>\n",
       "      <th>2017-10-05</th>\n",
       "      <td>-0.016399</td>\n",
       "      <td>0.027342</td>\n",
       "      <td>0.014808</td>\n",
       "      <td>0.234652</td>\n",
       "      <td>0.107789</td>\n",
       "      <td>0.025453</td>\n",
       "      <td>0.009105</td>\n",
       "    </tr>\n",
       "    <tr>\n",
       "      <th>2017-10-06</th>\n",
       "      <td>-0.134700</td>\n",
       "      <td>0.012815</td>\n",
       "      <td>0.046145</td>\n",
       "      <td>0.266330</td>\n",
       "      <td>-0.009608</td>\n",
       "      <td>-0.094892</td>\n",
       "      <td>0.011725</td>\n",
       "    </tr>\n",
       "    <tr>\n",
       "      <th>2017-10-07</th>\n",
       "      <td>0.129565</td>\n",
       "      <td>0.012831</td>\n",
       "      <td>0.008199</td>\n",
       "      <td>0.138890</td>\n",
       "      <td>0.019531</td>\n",
       "      <td>-0.179239</td>\n",
       "      <td>0.008826</td>\n",
       "    </tr>\n",
       "    <tr>\n",
       "      <th>2017-10-08</th>\n",
       "      <td>-0.022157</td>\n",
       "      <td>0.041472</td>\n",
       "      <td>-0.008068</td>\n",
       "      <td>-0.112649</td>\n",
       "      <td>0.173228</td>\n",
       "      <td>0.028874</td>\n",
       "      <td>0.010650</td>\n",
       "    </tr>\n",
       "  </tbody>\n",
       "</table>\n",
       "</div>"
      ],
      "text/plain": [
       "                 ADA       BTC       ETH       XLM       XRP       TRX  \\\n",
       "2017-10-04  0.050526 -0.023236 -0.002203 -0.047262  0.053298  0.324326   \n",
       "2017-10-05 -0.016399  0.027342  0.014808  0.234652  0.107789  0.025453   \n",
       "2017-10-06 -0.134700  0.012815  0.046145  0.266330 -0.009608 -0.094892   \n",
       "2017-10-07  0.129565  0.012831  0.008199  0.138890  0.019531 -0.179239   \n",
       "2017-10-08 -0.022157  0.041472 -0.008068 -0.112649  0.173228  0.028874   \n",
       "\n",
       "                 LTC  \n",
       "2017-10-04 -0.020979  \n",
       "2017-10-05  0.009105  \n",
       "2017-10-06  0.011725  \n",
       "2017-10-07  0.008826  \n",
       "2017-10-08  0.010650  "
      ]
     },
     "execution_count": 6,
     "metadata": {},
     "output_type": "execute_result"
    }
   ],
   "source": [
    "mkt=mkt_data.MarketData()\n",
    "returns_data = mkt.crypto_returns_data(\n",
    "    symbols=['ADA', 'BTC', 'ETH', 'XLM', 'XRP', 'TRX', 'LTC','NEO', 'DASH'],\n",
    "    time_step='1D',\n",
    ").dropna()\n",
    "returns_data.head()"
   ]
  },
  {
   "cell_type": "markdown",
   "metadata": {},
   "source": [
    "## Estimate distributions"
   ]
  },
  {
   "cell_type": "code",
   "execution_count": 143,
   "metadata": {
    "collapsed": true
   },
   "outputs": [],
   "source": [
    "n_days =30\n",
    "projected_returns = pd.DataFrame()\n",
    "for r in returns_data:\n",
    "    rets = returns_data[r]\n",
    "    \n",
    "    # MLE of the sample for a normal distribution (to be improved) \n",
    "    daily_mu, daily_std = norm.fit(rets)\n",
    "    monthly_mu, monthly_std = n_days*daily_mu, daily_std*np.sqrt(n_days)\n",
    "\n",
    "    # generate big sample with the monthly distribution\n",
    "    monthly_data = norm.rvs(monthly_mu, monthly_std, size=1000)\n",
    "    \n",
    "    #add that as new returns for the month\n",
    "    projected_returns[r] = monthly_data"
   ]
  },
  {
   "cell_type": "code",
   "execution_count": 144,
   "metadata": {},
   "outputs": [
    {
     "data": {
      "image/png": "[encoded data removed]",
      "text/plain": [
       "<matplotlib.figure.Figure at 0x1a16ffb3390>"
      ]
     },
     "metadata": {},
     "output_type": "display_data"
    }
   ],
   "source": [
    "x = np.linspace(-1.5,1.5,100)\n",
    "# get the pdf of the variables\n",
    "\n",
    "fig = plt.figure(figsize=(15,10))\n",
    "f = 1\n",
    "for r in returns_data.columns:\n",
    "    rets = returns_data[r]\n",
    "    daily_mu, daily_std = norm.fit(rets)\n",
    "    monthly_mu, monthly_std = n_days*daily_mu, daily_std*np.sqrt(n_days)\n",
    "    \n",
    "    # get pdf\n",
    "    p_daily = norm.pdf(x, daily_mu, daily_std)\n",
    "    p_monthly = norm.pdf(x, monthly_mu, monthly_std)\n",
    "\n",
    "    # create the figures\n",
    "    fig.add_subplot(4,4,f)\n",
    "    ax = plt.gca()\n",
    "    plt.plot(x, p_daily, label='Daily')\n",
    "    plt.plot(x, p_monthly, label='Monthly')\n",
    "    plt.hist(rets, bins=25, normed=True, alpha=0.5)\n",
    "    f+=1\n",
    "    ax.set_title('{}, {} values'.format(r, len(rets)))\n",
    "    ax.set_ylim(0,5)\n",
    "    ax.set_xlim(-3,3)\n",
    "plt.tight_layout()"
   ]
  },
  {
   "cell_type": "code",
   "execution_count": 145,
   "metadata": {},
   "outputs": [
    {
     "data": {
      "text/html": [
       "<div>\n",
       "<style scoped>\n",
       "    .dataframe tbody tr th:only-of-type {\n",
       "        vertical-align: middle;\n",
       "    }\n",
       "\n",
       "    .dataframe tbody tr th {\n",
       "        vertical-align: top;\n",
       "    }\n",
       "\n",
       "    .dataframe thead th {\n",
       "        text-align: right;\n",
       "    }\n",
       "</style>\n",
       "<table border=\"1\" class=\"dataframe\">\n",
       "  <thead>\n",
       "    <tr style=\"text-align: right;\">\n",
       "      <th></th>\n",
       "      <th>ADA</th>\n",
       "      <th>BTC</th>\n",
       "      <th>ETH</th>\n",
       "      <th>XLM</th>\n",
       "      <th>XRP</th>\n",
       "    </tr>\n",
       "  </thead>\n",
       "  <tbody>\n",
       "    <tr>\n",
       "      <th>995</th>\n",
       "      <td>0.992705</td>\n",
       "      <td>0.216485</td>\n",
       "      <td>0.835562</td>\n",
       "      <td>0.041754</td>\n",
       "      <td>-0.157684</td>\n",
       "    </tr>\n",
       "    <tr>\n",
       "      <th>996</th>\n",
       "      <td>0.450965</td>\n",
       "      <td>0.129992</td>\n",
       "      <td>0.962418</td>\n",
       "      <td>0.098139</td>\n",
       "      <td>0.051314</td>\n",
       "    </tr>\n",
       "    <tr>\n",
       "      <th>997</th>\n",
       "      <td>0.913627</td>\n",
       "      <td>0.228670</td>\n",
       "      <td>-0.001189</td>\n",
       "      <td>-0.190743</td>\n",
       "      <td>0.169568</td>\n",
       "    </tr>\n",
       "    <tr>\n",
       "      <th>998</th>\n",
       "      <td>1.394013</td>\n",
       "      <td>-0.031223</td>\n",
       "      <td>0.780152</td>\n",
       "      <td>0.671168</td>\n",
       "      <td>0.068768</td>\n",
       "    </tr>\n",
       "    <tr>\n",
       "      <th>999</th>\n",
       "      <td>2.212035</td>\n",
       "      <td>-0.180615</td>\n",
       "      <td>1.204583</td>\n",
       "      <td>0.028860</td>\n",
       "      <td>0.275768</td>\n",
       "    </tr>\n",
       "  </tbody>\n",
       "</table>\n",
       "</div>"
      ],
      "text/plain": [
       "          ADA       BTC       ETH       XLM       XRP\n",
       "995  0.992705  0.216485  0.835562  0.041754 -0.157684\n",
       "996  0.450965  0.129992  0.962418  0.098139  0.051314\n",
       "997  0.913627  0.228670 -0.001189 -0.190743  0.169568\n",
       "998  1.394013 -0.031223  0.780152  0.671168  0.068768\n",
       "999  2.212035 -0.180615  1.204583  0.028860  0.275768"
      ]
     },
     "execution_count": 145,
     "metadata": {},
     "output_type": "execute_result"
    }
   ],
   "source": [
    "monthly_sample.tail()"
   ]
  },
  {
   "cell_type": "markdown",
   "metadata": {},
   "source": [
    "## Calculate Markowitz frontier"
   ]
  },
  {
   "cell_type": "code",
   "execution_count": 146,
   "metadata": {
    "collapsed": true
   },
   "outputs": [],
   "source": [
    "from math import sqrt\n",
    "from cvxopt import matrix\n",
    "from cvxopt.blas import dot\n",
    "from cvxopt.solvers import qp, options\n",
    "\n",
    "import portfolioopt as pfopt"
   ]
  },
  {
   "cell_type": "code",
   "execution_count": 147,
   "metadata": {
    "collapsed": true
   },
   "outputs": [],
   "source": [
    "avg_rets = projected_returns.mean()\n",
    "cov_mat = projected_returns.cov()"
   ]
  },
  {
   "cell_type": "code",
   "execution_count": 148,
   "metadata": {
    "collapsed": true
   },
   "outputs": [],
   "source": [
    "# calculate the Markowitz optimal allocations for each target return value\n",
    "optimal_allocation_list = []\n",
    "for k in np.arange(0.01,0.99, 0.01):\n",
    "    tgt_return = avg_rets.quantile(k)\n",
    "    optimal_weights = pfopt.markowitz_portfolio(cov_mat=cov_mat, exp_rets=avg_rets, target_ret=tgt_return)\n",
    "    optimal_allocation_list.append(optimal_weights)\n"
   ]
  },
  {
   "cell_type": "code",
   "execution_count": 149,
   "metadata": {},
   "outputs": [
    {
     "data": {
      "text/plain": [
       "ADA    0.029724\n",
       "BTC    0.352178\n",
       "ETH    0.303076\n",
       "XLM    0.054047\n",
       "XRP    0.073414\n",
       "TRX    0.034975\n",
       "LTC    0.152586\n",
       "dtype: float64"
      ]
     },
     "execution_count": 149,
     "metadata": {},
     "output_type": "execute_result"
    }
   ],
   "source": [
    "optimal_allocation_list[0]"
   ]
  },
  {
   "cell_type": "code",
   "execution_count": 150,
   "metadata": {
    "collapsed": true
   },
   "outputs": [],
   "source": [
    "matrix_rets = avg_rets.as_matrix()\n",
    "matrix_cov = cov_mat.as_matrix()\n",
    "returns = [x.dot(matrix_rets) for x in optimal_allocation_list]\n",
    "risks = [sqrt(x.dot(matrix_cov.dot(x))) for x in optimal_allocation_list]"
   ]
  },
  {
   "cell_type": "code",
   "execution_count": 151,
   "metadata": {},
   "outputs": [
    {
     "data": {
      "text/plain": [
       "[<matplotlib.lines.Line2D at 0x1a177fb6cc0>]"
      ]
     },
     "execution_count": 151,
     "metadata": {},
     "output_type": "execute_result"
    },
    {
     "data": {
      "image/png": "[encoded data removed]",
      "text/plain": [
       "<matplotlib.figure.Figure at 0x1a176634c18>"
      ]
     },
     "metadata": {},
     "output_type": "display_data"
    }
   ],
   "source": [
    "plt.plot(risks, returns)"
   ]
  },
  {
   "cell_type": "code",
   "execution_count": 152,
   "metadata": {},
   "outputs": [
    {
     "data": {
      "text/plain": [
       "ADA    0.029724\n",
       "BTC    0.352178\n",
       "ETH    0.303077\n",
       "XLM    0.054047\n",
       "XRP    0.073414\n",
       "TRX    0.034975\n",
       "LTC    0.152586\n",
       "dtype: float64"
      ]
     },
     "execution_count": 152,
     "metadata": {},
     "output_type": "execute_result"
    }
   ],
   "source": [
    "pfopt.markowitz_portfolio(cov_mat=cov_mat, exp_rets=avg_rets, target_ret=0.6)"
   ]
  }
 ],
 "metadata": {
  "kernelspec": {
   "display_name": "Python 3",
   "language": "python",
   "name": "python3"
  },
  "language_info": {
   "codemirror_mode": {
    "name": "ipython",
    "version": 3
   },
   "file_extension": ".py",
   "mimetype": "text/x-python",
   "name": "python",
   "nbconvert_exporter": "python",
   "pygments_lexer": "ipython3",
   "version": "3.6.3"
  }
 },
 "nbformat": 4,
 "nbformat_minor": 2
}
