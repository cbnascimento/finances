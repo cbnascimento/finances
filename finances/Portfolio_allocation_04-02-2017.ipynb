{
 "cells": [
  {
   "cell_type": "code",
   "execution_count": 1,
   "metadata": {},
   "outputs": [
    {
     "name": "stderr",
     "output_type": "stream",
     "text": [
      "C:\\Anaconda3\\envs\\finance\\lib\\site-packages\\statsmodels\\compat\\pandas.py:56: FutureWarning: The pandas.core.datetools module is deprecated and will be removed in a future version. Please use the pandas.tseries module instead.\n",
      "  from pandas.core import datetools\n"
     ]
    },
    {
     "name": "stdout",
     "output_type": "stream",
     "text": [
      "Loaded crypto currency database from C:\\projects\\finances.git\\finances\\market\\data_base\\crypto_currencies\\main_crypto_eur_database.csv\n"
     ]
    }
   ],
   "source": [
    "%matplotlib inline\n",
    "\n",
    "import pandas as pd\n",
    "import numpy as np\n",
    "import pylab as plt\n",
    "\n",
    "import portfolioopt as pfopt\n",
    "from scipy.stats import norm\n",
    "\n",
    "import seaborn as sns\n",
    "\n",
    "\n",
    "\n",
    "import sys\n",
    "sys.path.append('C:\\\\projects\\\\finances.git\\\\finances')\n",
    "\n",
    "from finances.market import market_data as mkt_data\n",
    "from finances.portfolio.portfolio_optimization import generate_projected_normal_sample, markowitz_efficient_frontier"
   ]
  },
  {
   "cell_type": "markdown",
   "metadata": {},
   "source": [
    "# Optimal portfolio allocation"
   ]
  },
  {
   "cell_type": "code",
   "execution_count": 2,
   "metadata": {},
   "outputs": [
    {
     "name": "stdout",
     "output_type": "stream",
     "text": [
      "Loaded crypto currency database from C:\\projects\\finances.git\\finances\\market\\data_base\\crypto_currencies\\main_crypto_eur_database.csv\n"
     ]
    },
    {
     "data": {
      "text/html": [
       "<div>\n",
       "<style scoped>\n",
       "    .dataframe tbody tr th:only-of-type {\n",
       "        vertical-align: middle;\n",
       "    }\n",
       "\n",
       "    .dataframe tbody tr th {\n",
       "        vertical-align: top;\n",
       "    }\n",
       "\n",
       "    .dataframe thead th {\n",
       "        text-align: right;\n",
       "    }\n",
       "</style>\n",
       "<table border=\"1\" class=\"dataframe\">\n",
       "  <thead>\n",
       "    <tr style=\"text-align: right;\">\n",
       "      <th></th>\n",
       "      <th>ADA</th>\n",
       "      <th>XMR</th>\n",
       "      <th>BTC</th>\n",
       "      <th>NEO</th>\n",
       "      <th>EMC2</th>\n",
       "      <th>ETH</th>\n",
       "      <th>FUN</th>\n",
       "      <th>IOTA</th>\n",
       "      <th>LTC</th>\n",
       "      <th>TRX</th>\n",
       "      <th>UBQ</th>\n",
       "      <th>XLM</th>\n",
       "      <th>XRP</th>\n",
       "      <th>DASH</th>\n",
       "    </tr>\n",
       "  </thead>\n",
       "  <tbody>\n",
       "    <tr>\n",
       "      <th>2017-10-04</th>\n",
       "      <td>0.050526</td>\n",
       "      <td>-0.030237</td>\n",
       "      <td>-0.023236</td>\n",
       "      <td>-0.075569</td>\n",
       "      <td>-0.118873</td>\n",
       "      <td>-0.002203</td>\n",
       "      <td>-0.041141</td>\n",
       "      <td>-0.029032</td>\n",
       "      <td>-0.020979</td>\n",
       "      <td>0.324326</td>\n",
       "      <td>-0.044431</td>\n",
       "      <td>-0.047262</td>\n",
       "      <td>0.053298</td>\n",
       "      <td>0.028149</td>\n",
       "    </tr>\n",
       "    <tr>\n",
       "      <th>2017-10-05</th>\n",
       "      <td>-0.016399</td>\n",
       "      <td>0.019932</td>\n",
       "      <td>0.027342</td>\n",
       "      <td>0.039914</td>\n",
       "      <td>-0.085577</td>\n",
       "      <td>0.014808</td>\n",
       "      <td>-0.067997</td>\n",
       "      <td>-0.007302</td>\n",
       "      <td>0.009105</td>\n",
       "      <td>0.025453</td>\n",
       "      <td>-0.014873</td>\n",
       "      <td>0.234652</td>\n",
       "      <td>0.107789</td>\n",
       "      <td>0.003635</td>\n",
       "    </tr>\n",
       "    <tr>\n",
       "      <th>2017-10-06</th>\n",
       "      <td>-0.134700</td>\n",
       "      <td>-0.004326</td>\n",
       "      <td>0.012815</td>\n",
       "      <td>0.041518</td>\n",
       "      <td>0.178987</td>\n",
       "      <td>0.046145</td>\n",
       "      <td>-0.026483</td>\n",
       "      <td>-0.066483</td>\n",
       "      <td>0.011725</td>\n",
       "      <td>-0.094892</td>\n",
       "      <td>-0.003358</td>\n",
       "      <td>0.266330</td>\n",
       "      <td>-0.009608</td>\n",
       "      <td>0.007850</td>\n",
       "    </tr>\n",
       "    <tr>\n",
       "      <th>2017-10-07</th>\n",
       "      <td>0.129565</td>\n",
       "      <td>0.005593</td>\n",
       "      <td>0.012831</td>\n",
       "      <td>0.078162</td>\n",
       "      <td>-0.084889</td>\n",
       "      <td>0.008199</td>\n",
       "      <td>0.000304</td>\n",
       "      <td>0.069681</td>\n",
       "      <td>0.008826</td>\n",
       "      <td>-0.179239</td>\n",
       "      <td>-0.063694</td>\n",
       "      <td>0.138890</td>\n",
       "      <td>0.019531</td>\n",
       "      <td>0.011764</td>\n",
       "    </tr>\n",
       "    <tr>\n",
       "      <th>2017-10-08</th>\n",
       "      <td>-0.022157</td>\n",
       "      <td>-0.021047</td>\n",
       "      <td>0.041472</td>\n",
       "      <td>-0.112618</td>\n",
       "      <td>-0.082948</td>\n",
       "      <td>-0.008068</td>\n",
       "      <td>-0.083438</td>\n",
       "      <td>-0.071485</td>\n",
       "      <td>0.010650</td>\n",
       "      <td>0.028874</td>\n",
       "      <td>-0.142857</td>\n",
       "      <td>-0.112649</td>\n",
       "      <td>0.173228</td>\n",
       "      <td>-0.025798</td>\n",
       "    </tr>\n",
       "  </tbody>\n",
       "</table>\n",
       "</div>"
      ],
      "text/plain": [
       "                 ADA       XMR       BTC       NEO      EMC2       ETH  \\\n",
       "2017-10-04  0.050526 -0.030237 -0.023236 -0.075569 -0.118873 -0.002203   \n",
       "2017-10-05 -0.016399  0.019932  0.027342  0.039914 -0.085577  0.014808   \n",
       "2017-10-06 -0.134700 -0.004326  0.012815  0.041518  0.178987  0.046145   \n",
       "2017-10-07  0.129565  0.005593  0.012831  0.078162 -0.084889  0.008199   \n",
       "2017-10-08 -0.022157 -0.021047  0.041472 -0.112618 -0.082948 -0.008068   \n",
       "\n",
       "                 FUN      IOTA       LTC       TRX       UBQ       XLM  \\\n",
       "2017-10-04 -0.041141 -0.029032 -0.020979  0.324326 -0.044431 -0.047262   \n",
       "2017-10-05 -0.067997 -0.007302  0.009105  0.025453 -0.014873  0.234652   \n",
       "2017-10-06 -0.026483 -0.066483  0.011725 -0.094892 -0.003358  0.266330   \n",
       "2017-10-07  0.000304  0.069681  0.008826 -0.179239 -0.063694  0.138890   \n",
       "2017-10-08 -0.083438 -0.071485  0.010650  0.028874 -0.142857 -0.112649   \n",
       "\n",
       "                 XRP      DASH  \n",
       "2017-10-04  0.053298  0.028149  \n",
       "2017-10-05  0.107789  0.003635  \n",
       "2017-10-06 -0.009608  0.007850  \n",
       "2017-10-07  0.019531  0.011764  \n",
       "2017-10-08  0.173228 -0.025798  "
      ]
     },
     "execution_count": 2,
     "metadata": {},
     "output_type": "execute_result"
    }
   ],
   "source": [
    "mkt=mkt_data.MarketData()\n",
    "returns_data = mkt.crypto_returns_data(\n",
    "    symbols=['ADA', 'XMR', 'BTC', 'NEO', 'EMC2', 'ETH', 'FUN', 'IOTA', 'LTC', 'TRX', 'UBQ', 'XLM', 'XRP', 'DASH'],\n",
    "    time_step='D',\n",
    "    ).dropna()\n",
    "\n",
    "returns_data.head()\n"
   ]
  },
  {
   "cell_type": "code",
   "execution_count": 3,
   "metadata": {},
   "outputs": [
    {
     "data": {
      "text/plain": [
       "<matplotlib.legend.Legend at 0x1cb7b215dd8>"
      ]
     },
     "execution_count": 3,
     "metadata": {},
     "output_type": "execute_result"
    },
    {
     "data": {
      "image/png": "[encoded data removed]",
      "text/plain": [
       "<matplotlib.figure.Figure at 0x1cb7b2490b8>"
      ]
     },
     "metadata": {},
     "output_type": "display_data"
    }
   ],
   "source": [
    "n_days = 15\n",
    "\n",
    "sns.set()\n",
    "# sns.set_palette('YlOrRd', 12)\n",
    "for days in [n_days]:#range(1,30, 5):\n",
    "    monthly_returns = generate_projected_normal_sample(returns_data, days)\n",
    "    rewards, risks = markowitz_efficient_frontier(monthly_returns)\n",
    "    plt.plot(risks, rewards, label='%i days' % days)\n",
    "plt.legend()"
   ]
  },
  {
   "cell_type": "code",
   "execution_count": 4,
   "metadata": {},
   "outputs": [
    {
     "data": {
      "text/plain": [
       "ADA     0.000000\n",
       "XMR     0.109759\n",
       "BTC     0.178637\n",
       "NEO     0.089586\n",
       "EMC2    0.000000\n",
       "ETH     0.191301\n",
       "FUN     0.049667\n",
       "IOTA    0.059167\n",
       "LTC     0.084100\n",
       "TRX     0.000000\n",
       "UBQ     0.056927\n",
       "XLM     0.038251\n",
       "XRP     0.043416\n",
       "DASH    0.099191\n",
       "dtype: float64"
      ]
     },
     "execution_count": 4,
     "metadata": {},
     "output_type": "execute_result"
    }
   ],
   "source": [
    "avg_rets = generate_projected_normal_sample(returns_data, n_days).mean()\n",
    "cov_mat = generate_projected_normal_sample(returns_data, n_days).cov()\n",
    "x = pfopt.markowitz_portfolio(cov_mat=cov_mat, exp_rets=avg_rets, target_ret=0.2)\n",
    "optimal_portfolio = pfopt.truncate_weights(x, min_weight=0.03, rescale=True)\n",
    "optimal_portfolio"
   ]
  },
  {
   "cell_type": "markdown",
   "metadata": {},
   "source": [
    "## Portfolio analysis"
   ]
  },
  {
   "cell_type": "code",
   "execution_count": 5,
   "metadata": {
    "collapsed": true
   },
   "outputs": [],
   "source": [
    "value_to_invest = 2000"
   ]
  },
  {
   "cell_type": "code",
   "execution_count": 6,
   "metadata": {
    "collapsed": true
   },
   "outputs": [],
   "source": [
    "analysis_df = pd.DataFrame()\n",
    "analysis_df['allocation'] = optimal_portfolio\n",
    "prices = [mkt.get_coin_price(coin) for coin in analysis_df.index]\n",
    "analysis_df['Prices'] = prices\n",
    "analysis_df['allocation_euros'] = analysis_df['allocation']*value_to_invest\n",
    "analysis_df['coin_quantities']= analysis_df['allocation_euros']/analysis_df['Prices']"
   ]
  },
  {
   "cell_type": "code",
   "execution_count": 7,
   "metadata": {},
   "outputs": [
    {
     "data": {
      "text/html": [
       "<div>\n",
       "<style scoped>\n",
       "    .dataframe tbody tr th:only-of-type {\n",
       "        vertical-align: middle;\n",
       "    }\n",
       "\n",
       "    .dataframe tbody tr th {\n",
       "        vertical-align: top;\n",
       "    }\n",
       "\n",
       "    .dataframe thead th {\n",
       "        text-align: right;\n",
       "    }\n",
       "</style>\n",
       "<table border=\"1\" class=\"dataframe\">\n",
       "  <thead>\n",
       "    <tr style=\"text-align: right;\">\n",
       "      <th></th>\n",
       "      <th>allocation</th>\n",
       "      <th>Prices</th>\n",
       "      <th>allocation_euros</th>\n",
       "      <th>coin_quantities</th>\n",
       "    </tr>\n",
       "  </thead>\n",
       "  <tbody>\n",
       "    <tr>\n",
       "      <th>ADA</th>\n",
       "      <td>0.000000</td>\n",
       "      <td>0.271607</td>\n",
       "      <td>0.000000</td>\n",
       "      <td>0.000000</td>\n",
       "    </tr>\n",
       "    <tr>\n",
       "      <th>XMR</th>\n",
       "      <td>0.109759</td>\n",
       "      <td>153.661905</td>\n",
       "      <td>219.517509</td>\n",
       "      <td>1.428575</td>\n",
       "    </tr>\n",
       "    <tr>\n",
       "      <th>BTC</th>\n",
       "      <td>0.178637</td>\n",
       "      <td>5849.300129</td>\n",
       "      <td>357.273541</td>\n",
       "      <td>0.061080</td>\n",
       "    </tr>\n",
       "    <tr>\n",
       "      <th>NEO</th>\n",
       "      <td>0.089586</td>\n",
       "      <td>70.815028</td>\n",
       "      <td>179.171248</td>\n",
       "      <td>2.530130</td>\n",
       "    </tr>\n",
       "    <tr>\n",
       "      <th>EMC2</th>\n",
       "      <td>0.000000</td>\n",
       "      <td>0.240868</td>\n",
       "      <td>0.000000</td>\n",
       "      <td>0.000000</td>\n",
       "    </tr>\n",
       "    <tr>\n",
       "      <th>ETH</th>\n",
       "      <td>0.191301</td>\n",
       "      <td>582.555762</td>\n",
       "      <td>382.602730</td>\n",
       "      <td>0.656766</td>\n",
       "    </tr>\n",
       "    <tr>\n",
       "      <th>FUN</th>\n",
       "      <td>0.049667</td>\n",
       "      <td>0.032275</td>\n",
       "      <td>99.334717</td>\n",
       "      <td>3077.775742</td>\n",
       "    </tr>\n",
       "    <tr>\n",
       "      <th>IOTA</th>\n",
       "      <td>0.059167</td>\n",
       "      <td>1.217883</td>\n",
       "      <td>118.333390</td>\n",
       "      <td>97.163181</td>\n",
       "    </tr>\n",
       "    <tr>\n",
       "      <th>LTC</th>\n",
       "      <td>0.084100</td>\n",
       "      <td>104.879414</td>\n",
       "      <td>168.199320</td>\n",
       "      <td>1.603740</td>\n",
       "    </tr>\n",
       "    <tr>\n",
       "      <th>TRX</th>\n",
       "      <td>0.000000</td>\n",
       "      <td>0.025914</td>\n",
       "      <td>0.000000</td>\n",
       "      <td>0.000000</td>\n",
       "    </tr>\n",
       "    <tr>\n",
       "      <th>UBQ</th>\n",
       "      <td>0.056927</td>\n",
       "      <td>1.865342</td>\n",
       "      <td>113.853032</td>\n",
       "      <td>61.036019</td>\n",
       "    </tr>\n",
       "    <tr>\n",
       "      <th>XLM</th>\n",
       "      <td>0.038251</td>\n",
       "      <td>0.275469</td>\n",
       "      <td>76.501709</td>\n",
       "      <td>277.714673</td>\n",
       "    </tr>\n",
       "    <tr>\n",
       "      <th>XRP</th>\n",
       "      <td>0.043416</td>\n",
       "      <td>0.581235</td>\n",
       "      <td>86.831135</td>\n",
       "      <td>149.390769</td>\n",
       "    </tr>\n",
       "    <tr>\n",
       "      <th>DASH</th>\n",
       "      <td>0.099191</td>\n",
       "      <td>373.851977</td>\n",
       "      <td>198.381669</td>\n",
       "      <td>0.530642</td>\n",
       "    </tr>\n",
       "  </tbody>\n",
       "</table>\n",
       "</div>"
      ],
      "text/plain": [
       "      allocation       Prices  allocation_euros  coin_quantities\n",
       "ADA     0.000000     0.271607          0.000000         0.000000\n",
       "XMR     0.109759   153.661905        219.517509         1.428575\n",
       "BTC     0.178637  5849.300129        357.273541         0.061080\n",
       "NEO     0.089586    70.815028        179.171248         2.530130\n",
       "EMC2    0.000000     0.240868          0.000000         0.000000\n",
       "ETH     0.191301   582.555762        382.602730         0.656766\n",
       "FUN     0.049667     0.032275         99.334717      3077.775742\n",
       "IOTA    0.059167     1.217883        118.333390        97.163181\n",
       "LTC     0.084100   104.879414        168.199320         1.603740\n",
       "TRX     0.000000     0.025914          0.000000         0.000000\n",
       "UBQ     0.056927     1.865342        113.853032        61.036019\n",
       "XLM     0.038251     0.275469         76.501709       277.714673\n",
       "XRP     0.043416     0.581235         86.831135       149.390769\n",
       "DASH    0.099191   373.851977        198.381669         0.530642"
      ]
     },
     "execution_count": 7,
     "metadata": {},
     "output_type": "execute_result"
    }
   ],
   "source": [
    "analysis_df"
   ]
  },
  {
   "cell_type": "code",
   "execution_count": null,
   "metadata": {
    "collapsed": true
   },
   "outputs": [],
   "source": []
  }
 ],
 "metadata": {
  "kernelspec": {
   "display_name": "Python 3",
   "language": "python",
   "name": "python3"
  },
  "language_info": {
   "codemirror_mode": {
    "name": "ipython",
    "version": 3
   },
   "file_extension": ".py",
   "mimetype": "text/x-python",
   "name": "python",
   "nbconvert_exporter": "python",
   "pygments_lexer": "ipython3",
   "version": "3.6.3"
  }
 },
 "nbformat": 4,
 "nbformat_minor": 2
}
