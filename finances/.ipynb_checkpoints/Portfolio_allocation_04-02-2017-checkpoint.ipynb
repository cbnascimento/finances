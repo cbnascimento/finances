{
 "cells": [
  {
   "cell_type": "code",
   "execution_count": 5,
   "metadata": {},
   "outputs": [
    {
     "name": "stdout",
     "output_type": "stream",
     "text": [
      "Loaded crypto currency database from C:\\projects\\finances.git\\finances\\market\\data_base\\crypto_currencies\\main_crypto_eur_database.csv\n"
     ]
    }
   ],
   "source": [
    "%matplotlib inline\n",
    "\n",
    "import pandas as pd\n",
    "import numpy as np\n",
    "import pylab as plt\n",
    "\n",
    "import portfolioopt as pfopt\n",
    "from scipy.stats import norm\n",
    "\n",
    "import seaborn as sns\n",
    "\n",
    "\n",
    "\n",
    "import sys\n",
    "sys.path.append('C:\\\\projects\\\\finances.git')\n",
    "\n",
    "from finances.market import market_data as mkt_data\n",
    "from finances.portfolio.portfolio_optimization import generate_projected_normal_sample, markowitz_efficient_frontier"
   ]
  },
  {
   "cell_type": "markdown",
   "metadata": {},
   "source": [
    "# Optimal portfolio allocation"
   ]
  },
  {
   "cell_type": "code",
   "execution_count": 31,
   "metadata": {},
   "outputs": [
    {
     "name": "stdout",
     "output_type": "stream",
     "text": [
      "Loaded crypto currency database from C:\\projects\\finances.git\\finances\\market\\data_base\\crypto_currencies\\main_crypto_eur_database.csv\n"
     ]
    },
    {
     "data": {
      "text/html": [
       "<div>\n",
       "<style scoped>\n",
       "    .dataframe tbody tr th:only-of-type {\n",
       "        vertical-align: middle;\n",
       "    }\n",
       "\n",
       "    .dataframe tbody tr th {\n",
       "        vertical-align: top;\n",
       "    }\n",
       "\n",
       "    .dataframe thead th {\n",
       "        text-align: right;\n",
       "    }\n",
       "</style>\n",
       "<table border=\"1\" class=\"dataframe\">\n",
       "  <thead>\n",
       "    <tr style=\"text-align: right;\">\n",
       "      <th></th>\n",
       "      <th>ADA</th>\n",
       "      <th>XMR</th>\n",
       "      <th>BTC</th>\n",
       "      <th>NEO</th>\n",
       "      <th>ETH</th>\n",
       "      <th>LTC</th>\n",
       "      <th>TRX</th>\n",
       "      <th>UBQ</th>\n",
       "      <th>XLM</th>\n",
       "      <th>XRP</th>\n",
       "      <th>DASH</th>\n",
       "    </tr>\n",
       "  </thead>\n",
       "  <tbody>\n",
       "    <tr>\n",
       "      <th>2017-10-04</th>\n",
       "      <td>0.050526</td>\n",
       "      <td>-0.030237</td>\n",
       "      <td>-0.023236</td>\n",
       "      <td>-0.075569</td>\n",
       "      <td>-0.002203</td>\n",
       "      <td>-0.020979</td>\n",
       "      <td>0.324326</td>\n",
       "      <td>-0.044431</td>\n",
       "      <td>-0.047262</td>\n",
       "      <td>0.053298</td>\n",
       "      <td>0.028149</td>\n",
       "    </tr>\n",
       "    <tr>\n",
       "      <th>2017-10-05</th>\n",
       "      <td>-0.016399</td>\n",
       "      <td>0.019932</td>\n",
       "      <td>0.027342</td>\n",
       "      <td>0.039914</td>\n",
       "      <td>0.014808</td>\n",
       "      <td>0.009105</td>\n",
       "      <td>0.025453</td>\n",
       "      <td>-0.014873</td>\n",
       "      <td>0.234652</td>\n",
       "      <td>0.107789</td>\n",
       "      <td>0.003635</td>\n",
       "    </tr>\n",
       "    <tr>\n",
       "      <th>2017-10-06</th>\n",
       "      <td>-0.134700</td>\n",
       "      <td>-0.004326</td>\n",
       "      <td>0.012815</td>\n",
       "      <td>0.041518</td>\n",
       "      <td>0.046145</td>\n",
       "      <td>0.011725</td>\n",
       "      <td>-0.094892</td>\n",
       "      <td>-0.003358</td>\n",
       "      <td>0.266330</td>\n",
       "      <td>-0.009608</td>\n",
       "      <td>0.007850</td>\n",
       "    </tr>\n",
       "    <tr>\n",
       "      <th>2017-10-07</th>\n",
       "      <td>0.129565</td>\n",
       "      <td>0.005593</td>\n",
       "      <td>0.012831</td>\n",
       "      <td>0.078162</td>\n",
       "      <td>0.008199</td>\n",
       "      <td>0.008826</td>\n",
       "      <td>-0.179239</td>\n",
       "      <td>-0.063694</td>\n",
       "      <td>0.138890</td>\n",
       "      <td>0.019531</td>\n",
       "      <td>0.011764</td>\n",
       "    </tr>\n",
       "    <tr>\n",
       "      <th>2017-10-08</th>\n",
       "      <td>-0.022157</td>\n",
       "      <td>-0.021047</td>\n",
       "      <td>0.041472</td>\n",
       "      <td>-0.112618</td>\n",
       "      <td>-0.008068</td>\n",
       "      <td>0.010650</td>\n",
       "      <td>0.028874</td>\n",
       "      <td>-0.142857</td>\n",
       "      <td>-0.112649</td>\n",
       "      <td>0.173228</td>\n",
       "      <td>-0.025798</td>\n",
       "    </tr>\n",
       "  </tbody>\n",
       "</table>\n",
       "</div>"
      ],
      "text/plain": [
       "                 ADA       XMR       BTC       NEO       ETH       LTC  \\\n",
       "2017-10-04  0.050526 -0.030237 -0.023236 -0.075569 -0.002203 -0.020979   \n",
       "2017-10-05 -0.016399  0.019932  0.027342  0.039914  0.014808  0.009105   \n",
       "2017-10-06 -0.134700 -0.004326  0.012815  0.041518  0.046145  0.011725   \n",
       "2017-10-07  0.129565  0.005593  0.012831  0.078162  0.008199  0.008826   \n",
       "2017-10-08 -0.022157 -0.021047  0.041472 -0.112618 -0.008068  0.010650   \n",
       "\n",
       "                 TRX       UBQ       XLM       XRP      DASH  \n",
       "2017-10-04  0.324326 -0.044431 -0.047262  0.053298  0.028149  \n",
       "2017-10-05  0.025453 -0.014873  0.234652  0.107789  0.003635  \n",
       "2017-10-06 -0.094892 -0.003358  0.266330 -0.009608  0.007850  \n",
       "2017-10-07 -0.179239 -0.063694  0.138890  0.019531  0.011764  \n",
       "2017-10-08  0.028874 -0.142857 -0.112649  0.173228 -0.025798  "
      ]
     },
     "execution_count": 31,
     "metadata": {},
     "output_type": "execute_result"
    }
   ],
   "source": [
    "mkt=mkt_data.MarketData()\n",
    "returns_data = mkt.crypto_returns_data(\n",
    "    symbols=['ADA', 'XMR', 'BTC', 'NEO', 'ETH', 'LTC', 'TRX', 'UBQ', 'XLM', 'XRP', 'DASH'],\n",
    "    time_step='D',\n",
    "    ).dropna()\n",
    "\n",
    "returns_data.head()\n"
   ]
  },
  {
   "cell_type": "code",
   "execution_count": 32,
   "metadata": {},
   "outputs": [
    {
     "data": {
      "text/plain": [
       "<matplotlib.legend.Legend at 0x1e105104c88>"
      ]
     },
     "execution_count": 32,
     "metadata": {},
     "output_type": "execute_result"
    },
    {
     "data": {
      "image/png": "[encoded data removed]",
      "text/plain": [
       "<matplotlib.figure.Figure at 0x1e105516278>"
      ]
     },
     "metadata": {},
     "output_type": "display_data"
    }
   ],
   "source": [
    "n_days = 15\n",
    "\n",
    "sns.set()\n",
    "# sns.set_palette('YlOrRd', 12)\n",
    "for days in [n_days]:#range(1,30, 5):\n",
    "    monthly_returns = generate_projected_normal_sample(returns_data, days)\n",
    "    rewards, risks = markowitz_efficient_frontier(monthly_returns)\n",
    "    plt.plot(risks, rewards, label='%i days' % days)\n",
    "plt.legend()"
   ]
  },
  {
   "cell_type": "code",
   "execution_count": 33,
   "metadata": {},
   "outputs": [
    {
     "data": {
      "text/plain": [
       "ADA     0.029492\n",
       "XMR     0.119065\n",
       "BTC     0.186507\n",
       "NEO     0.091051\n",
       "ETH     0.194905\n",
       "LTC     0.093902\n",
       "TRX     0.023830\n",
       "UBQ     0.062393\n",
       "XLM     0.050325\n",
       "XRP     0.048623\n",
       "DASH    0.099907\n",
       "dtype: float64"
      ]
     },
     "execution_count": 33,
     "metadata": {},
     "output_type": "execute_result"
    }
   ],
   "source": [
    "avg_rets = generate_projected_normal_sample(returns_data, n_days).mean()\n",
    "cov_mat = generate_projected_normal_sample(returns_data, n_days).cov()\n",
    "x = pfopt.markowitz_portfolio(cov_mat=cov_mat, exp_rets=avg_rets, target_ret=0.2)\n",
    "optimal_portfolio = pfopt.truncate_weights(x, min_weight=0.01, rescale=True)\n",
    "optimal_portfolio"
   ]
  },
  {
   "cell_type": "markdown",
   "metadata": {},
   "source": [
    "## Portfolio analysis"
   ]
  },
  {
   "cell_type": "code",
   "execution_count": 34,
   "metadata": {
    "collapsed": true
   },
   "outputs": [],
   "source": [
    "value_to_invest = 2000"
   ]
  },
  {
   "cell_type": "code",
   "execution_count": 35,
   "metadata": {},
   "outputs": [],
   "source": [
    "analysis_df = pd.DataFrame()\n",
    "analysis_df['allocation'] = optimal_portfolio\n",
    "prices = [mkt.get_coin_price(coin) for coin in analysis_df.index]\n",
    "analysis_df['Prices'] = prices\n",
    "analysis_df['allocation_euros'] = analysis_df['allocation']*value_to_invest\n",
    "analysis_df['coin_quantities']= analysis_df['allocation_euros']/analysis_df['Prices']"
   ]
  },
  {
   "cell_type": "code",
   "execution_count": 36,
   "metadata": {},
   "outputs": [
    {
     "data": {
      "text/html": [
       "<div>\n",
       "<style scoped>\n",
       "    .dataframe tbody tr th:only-of-type {\n",
       "        vertical-align: middle;\n",
       "    }\n",
       "\n",
       "    .dataframe tbody tr th {\n",
       "        vertical-align: top;\n",
       "    }\n",
       "\n",
       "    .dataframe thead th {\n",
       "        text-align: right;\n",
       "    }\n",
       "</style>\n",
       "<table border=\"1\" class=\"dataframe\">\n",
       "  <thead>\n",
       "    <tr style=\"text-align: right;\">\n",
       "      <th></th>\n",
       "      <th>allocation</th>\n",
       "      <th>Prices</th>\n",
       "      <th>allocation_euros</th>\n",
       "      <th>coin_quantities</th>\n",
       "    </tr>\n",
       "  </thead>\n",
       "  <tbody>\n",
       "    <tr>\n",
       "      <th>ADA</th>\n",
       "      <td>0.029492</td>\n",
       "      <td>0.307534</td>\n",
       "      <td>58.983478</td>\n",
       "      <td>191.795136</td>\n",
       "    </tr>\n",
       "    <tr>\n",
       "      <th>XMR</th>\n",
       "      <td>0.119065</td>\n",
       "      <td>176.205731</td>\n",
       "      <td>238.129796</td>\n",
       "      <td>1.351430</td>\n",
       "    </tr>\n",
       "    <tr>\n",
       "      <th>BTC</th>\n",
       "      <td>0.186507</td>\n",
       "      <td>6585.747062</td>\n",
       "      <td>373.014262</td>\n",
       "      <td>0.056640</td>\n",
       "    </tr>\n",
       "    <tr>\n",
       "      <th>NEO</th>\n",
       "      <td>0.091051</td>\n",
       "      <td>85.650315</td>\n",
       "      <td>182.101977</td>\n",
       "      <td>2.126110</td>\n",
       "    </tr>\n",
       "    <tr>\n",
       "      <th>ETH</th>\n",
       "      <td>0.194905</td>\n",
       "      <td>667.290429</td>\n",
       "      <td>389.809899</td>\n",
       "      <td>0.584168</td>\n",
       "    </tr>\n",
       "    <tr>\n",
       "      <th>LTC</th>\n",
       "      <td>0.093902</td>\n",
       "      <td>116.014925</td>\n",
       "      <td>187.803937</td>\n",
       "      <td>1.618791</td>\n",
       "    </tr>\n",
       "    <tr>\n",
       "      <th>TRX</th>\n",
       "      <td>0.023830</td>\n",
       "      <td>0.030178</td>\n",
       "      <td>47.659983</td>\n",
       "      <td>1579.288736</td>\n",
       "    </tr>\n",
       "    <tr>\n",
       "      <th>UBQ</th>\n",
       "      <td>0.062393</td>\n",
       "      <td>2.215697</td>\n",
       "      <td>124.785988</td>\n",
       "      <td>56.319068</td>\n",
       "    </tr>\n",
       "    <tr>\n",
       "      <th>XLM</th>\n",
       "      <td>0.050325</td>\n",
       "      <td>0.303159</td>\n",
       "      <td>100.650733</td>\n",
       "      <td>332.006372</td>\n",
       "    </tr>\n",
       "    <tr>\n",
       "      <th>XRP</th>\n",
       "      <td>0.048623</td>\n",
       "      <td>0.666523</td>\n",
       "      <td>97.246340</td>\n",
       "      <td>145.900880</td>\n",
       "    </tr>\n",
       "    <tr>\n",
       "      <th>DASH</th>\n",
       "      <td>0.099907</td>\n",
       "      <td>438.255958</td>\n",
       "      <td>199.813608</td>\n",
       "      <td>0.455929</td>\n",
       "    </tr>\n",
       "  </tbody>\n",
       "</table>\n",
       "</div>"
      ],
      "text/plain": [
       "      allocation       Prices  allocation_euros  coin_quantities\n",
       "ADA     0.029492     0.307534         58.983478       191.795136\n",
       "XMR     0.119065   176.205731        238.129796         1.351430\n",
       "BTC     0.186507  6585.747062        373.014262         0.056640\n",
       "NEO     0.091051    85.650315        182.101977         2.126110\n",
       "ETH     0.194905   667.290429        389.809899         0.584168\n",
       "LTC     0.093902   116.014925        187.803937         1.618791\n",
       "TRX     0.023830     0.030178         47.659983      1579.288736\n",
       "UBQ     0.062393     2.215697        124.785988        56.319068\n",
       "XLM     0.050325     0.303159        100.650733       332.006372\n",
       "XRP     0.048623     0.666523         97.246340       145.900880\n",
       "DASH    0.099907   438.255958        199.813608         0.455929"
      ]
     },
     "execution_count": 36,
     "metadata": {},
     "output_type": "execute_result"
    }
   ],
   "source": [
    "analysis_df"
   ]
  },
  {
   "cell_type": "code",
   "execution_count": null,
   "metadata": {
    "collapsed": true
   },
   "outputs": [],
   "source": []
  }
 ],
 "metadata": {
  "kernelspec": {
   "display_name": "Python 3",
   "language": "python",
   "name": "python3"
  },
  "language_info": {
   "codemirror_mode": {
    "name": "ipython",
    "version": 3
   },
   "file_extension": ".py",
   "mimetype": "text/x-python",
   "name": "python",
   "nbconvert_exporter": "python",
   "pygments_lexer": "ipython3",
   "version": "3.6.3"
  }
 },
 "nbformat": 4,
 "nbformat_minor": 2
}
